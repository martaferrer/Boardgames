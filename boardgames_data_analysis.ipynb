{
 "cells": [
  {
   "cell_type": "markdown",
   "metadata": {},
   "source": [
    "# Boargames Data Analysis\n",
    "In this notebook, we are going to use the dataframe obtained from the Boardgames Scraping class. After some exploratora analysis, we will clean and tranform the data by taking into account the:\n",
    "- Missing values\n",
    "- Data types within the different columns\n",
    "- Categorical data\n",
    "- Duplicated data\n",
    "\n",
    "In addition, we will provide with some data visualization to better understand its trend. "
   ]
  },
  {
   "cell_type": "code",
   "execution_count": 1,
   "metadata": {},
   "outputs": [
    {
     "data": {
      "text/html": [
       "<div>\n",
       "<style scoped>\n",
       "    .dataframe tbody tr th:only-of-type {\n",
       "        vertical-align: middle;\n",
       "    }\n",
       "\n",
       "    .dataframe tbody tr th {\n",
       "        vertical-align: top;\n",
       "    }\n",
       "\n",
       "    .dataframe thead th {\n",
       "        text-align: right;\n",
       "    }\n",
       "</style>\n",
       "<table border=\"1\" class=\"dataframe\">\n",
       "  <thead>\n",
       "    <tr style=\"text-align: right;\">\n",
       "      <th></th>\n",
       "      <th>Board Game Rank</th>\n",
       "      <th>Title</th>\n",
       "      <th>Year</th>\n",
       "      <th>Description</th>\n",
       "      <th>Geek Rating</th>\n",
       "      <th>Avg Rating</th>\n",
       "      <th>Num Voters</th>\n",
       "      <th>Num Players Min</th>\n",
       "      <th>Num Players Max</th>\n",
       "      <th>Best Num Players Min</th>\n",
       "      <th>Best Num Players Max</th>\n",
       "      <th>Playtime Min</th>\n",
       "      <th>Playtime Max</th>\n",
       "      <th>Player Min Age</th>\n",
       "      <th>Language Dependence</th>\n",
       "      <th>Weight</th>\n",
       "      <th>Category</th>\n",
       "      <th>Designer</th>\n",
       "    </tr>\n",
       "  </thead>\n",
       "  <tbody>\n",
       "    <tr>\n",
       "      <th>0</th>\n",
       "      <td>1</td>\n",
       "      <td>Gloomhaven</td>\n",
       "      <td>2017</td>\n",
       "      <td>Vanquish monsters with strategic cardplay. Ful...</td>\n",
       "      <td>8.552</td>\n",
       "      <td>8.79</td>\n",
       "      <td>43254</td>\n",
       "      <td>1.0</td>\n",
       "      <td>4.0</td>\n",
       "      <td>3.0</td>\n",
       "      <td>3.0</td>\n",
       "      <td>60.0</td>\n",
       "      <td>120.0</td>\n",
       "      <td>14.0</td>\n",
       "      <td>Extensive use of text - massive conversion nee...</td>\n",
       "      <td>3.863102</td>\n",
       "      <td>Thematic | Strategy</td>\n",
       "      <td>Isaac Childres</td>\n",
       "    </tr>\n",
       "    <tr>\n",
       "      <th>1</th>\n",
       "      <td>2</td>\n",
       "      <td>Pandemic Legacy: Season 1</td>\n",
       "      <td>2015</td>\n",
       "      <td>Mutating diseases are spreading around the wor...</td>\n",
       "      <td>8.461</td>\n",
       "      <td>8.61</td>\n",
       "      <td>42367</td>\n",
       "      <td>2.0</td>\n",
       "      <td>4.0</td>\n",
       "      <td>4.0</td>\n",
       "      <td>4.0</td>\n",
       "      <td>60.0</td>\n",
       "      <td>60.0</td>\n",
       "      <td>13.0</td>\n",
       "      <td>Extensive use of text - massive conversion nee...</td>\n",
       "      <td>2.839793</td>\n",
       "      <td>Thematic | Strategy</td>\n",
       "      <td>Rob Daviau</td>\n",
       "    </tr>\n",
       "    <tr>\n",
       "      <th>2</th>\n",
       "      <td>3</td>\n",
       "      <td>Brass: Birmingham</td>\n",
       "      <td>2018</td>\n",
       "      <td>Build networks, grow industries, and navigate ...</td>\n",
       "      <td>8.391</td>\n",
       "      <td>8.67</td>\n",
       "      <td>20391</td>\n",
       "      <td>2.0</td>\n",
       "      <td>4.0</td>\n",
       "      <td>3.0</td>\n",
       "      <td>4.0</td>\n",
       "      <td>60.0</td>\n",
       "      <td>120.0</td>\n",
       "      <td>14.0</td>\n",
       "      <td>No necessary in-game text</td>\n",
       "      <td>3.910296</td>\n",
       "      <td>Strategy</td>\n",
       "      <td>Gavan Brown</td>\n",
       "    </tr>\n",
       "    <tr>\n",
       "      <th>3</th>\n",
       "      <td>4</td>\n",
       "      <td>Terraforming Mars</td>\n",
       "      <td>2016</td>\n",
       "      <td>Compete with rival CEOs to make Mars habitable...</td>\n",
       "      <td>8.285</td>\n",
       "      <td>8.43</td>\n",
       "      <td>66708</td>\n",
       "      <td>1.0</td>\n",
       "      <td>5.0</td>\n",
       "      <td>3.0</td>\n",
       "      <td>3.0</td>\n",
       "      <td>120.0</td>\n",
       "      <td>120.0</td>\n",
       "      <td>12.0</td>\n",
       "      <td>Moderate in-game text - needs crib sheet or pa...</td>\n",
       "      <td>3.241912</td>\n",
       "      <td>Strategy</td>\n",
       "      <td>Jacob Fryxelius</td>\n",
       "    </tr>\n",
       "    <tr>\n",
       "      <th>4</th>\n",
       "      <td>5</td>\n",
       "      <td>Twilight Imperium: Fourth Edition</td>\n",
       "      <td>2017</td>\n",
       "      <td>Build an intergalactic empire through trade, r...</td>\n",
       "      <td>8.254</td>\n",
       "      <td>8.69</td>\n",
       "      <td>13930</td>\n",
       "      <td>3.0</td>\n",
       "      <td>6.0</td>\n",
       "      <td>6.0</td>\n",
       "      <td>6.0</td>\n",
       "      <td>240.0</td>\n",
       "      <td>480.0</td>\n",
       "      <td>14.0</td>\n",
       "      <td>Extensive use of text - massive conversion nee...</td>\n",
       "      <td>4.225806</td>\n",
       "      <td>Thematic | Strategy</td>\n",
       "      <td>Dane Beltrami</td>\n",
       "    </tr>\n",
       "  </tbody>\n",
       "</table>\n",
       "</div>"
      ],
      "text/plain": [
       "   Board Game Rank                              Title  Year  \\\n",
       "0                1                         Gloomhaven  2017   \n",
       "1                2          Pandemic Legacy: Season 1  2015   \n",
       "2                3                  Brass: Birmingham  2018   \n",
       "3                4                  Terraforming Mars  2016   \n",
       "4                5  Twilight Imperium: Fourth Edition  2017   \n",
       "\n",
       "                                         Description  Geek Rating  Avg Rating  \\\n",
       "0  Vanquish monsters with strategic cardplay. Ful...        8.552        8.79   \n",
       "1  Mutating diseases are spreading around the wor...        8.461        8.61   \n",
       "2  Build networks, grow industries, and navigate ...        8.391        8.67   \n",
       "3  Compete with rival CEOs to make Mars habitable...        8.285        8.43   \n",
       "4  Build an intergalactic empire through trade, r...        8.254        8.69   \n",
       "\n",
       "   Num Voters  Num Players Min  Num Players Max  Best Num Players Min  \\\n",
       "0       43254              1.0              4.0                   3.0   \n",
       "1       42367              2.0              4.0                   4.0   \n",
       "2       20391              2.0              4.0                   3.0   \n",
       "3       66708              1.0              5.0                   3.0   \n",
       "4       13930              3.0              6.0                   6.0   \n",
       "\n",
       "   Best Num Players Max  Playtime Min  Playtime Max  Player Min Age  \\\n",
       "0                   3.0          60.0         120.0            14.0   \n",
       "1                   4.0          60.0          60.0            13.0   \n",
       "2                   4.0          60.0         120.0            14.0   \n",
       "3                   3.0         120.0         120.0            12.0   \n",
       "4                   6.0         240.0         480.0            14.0   \n",
       "\n",
       "                                 Language Dependence    Weight  \\\n",
       "0  Extensive use of text - massive conversion nee...  3.863102   \n",
       "1  Extensive use of text - massive conversion nee...  2.839793   \n",
       "2                          No necessary in-game text  3.910296   \n",
       "3  Moderate in-game text - needs crib sheet or pa...  3.241912   \n",
       "4  Extensive use of text - massive conversion nee...  4.225806   \n",
       "\n",
       "               Category         Designer  \n",
       "0  Thematic | Strategy    Isaac Childres  \n",
       "1  Thematic | Strategy        Rob Daviau  \n",
       "2             Strategy       Gavan Brown  \n",
       "3             Strategy   Jacob Fryxelius  \n",
       "4  Thematic | Strategy     Dane Beltrami  "
      ]
     },
     "execution_count": 1,
     "metadata": {},
     "output_type": "execute_result"
    }
   ],
   "source": [
    "import pandas as pd\n",
    "import numpy as np\n",
    "import matplotlib.pyplot as plt\n",
    "import pickle\n",
    "import math \n",
    "\n",
    "%matplotlib inline\n",
    "\n",
    "\n",
    "# import data\n",
    "df = pd.read_csv('Boardgame/data/boardgame_data.csv')\n",
    "del df['Unnamed: 0']\n",
    "\n",
    "# Show df to get an idea of the data\n",
    "df.head()"
   ]
  },
  {
   "cell_type": "markdown",
   "metadata": {},
   "source": [
    "## <a class=\"anchor\" id=\"Exploratory-Data-Analysis\">Part I : Exploratory Data Analysis</a>\n",
    "\n",
    "Use the dictionary and cells below to provide some insight into the descriptive statistics of the data.\n",
    "\n",
    "The boardgames dataset contains the following columns:\n",
    " - [0]   Board Game Rank: rank of the game acting as ID\n",
    " - [1]   Title\n",
    " - [2]   Year: year when the game was released (it can contain string showing the game edition)\n",
    " - [3]   Description\n",
    " - [4]   Geek Rating: \"Bayesian averaging\"\n",
    " - [5]   Avg Rating: average of all the ratings from registered BGG users\n",
    " - [6]   Num Voters: total number of users given rating to the game\n",
    " - [7]   Num Players Min\n",
    " - [8]   Num Players Max\n",
    " - [9]   Best Num Players Min\n",
    " - [10]  Best Num Players Max\n",
    " - [11]  Playtime Min: minimum allowed playing time\n",
    " - [12]  Playtime Max: maximum allowed playing time\n",
    " - [13]  Player Min Age\n",
    " - [14]  Language Dependence: string showing the dependence of the game to\n",
    " - [15]  Weight: Average complexity of this game\n",
    " - [16]  Category\n",
    " - [17]  Designer"
   ]
  },
  {
   "cell_type": "code",
   "execution_count": 2,
   "metadata": {},
   "outputs": [
    {
     "name": "stdout",
     "output_type": "stream",
     "text": [
      "<class 'pandas.core.frame.DataFrame'>\n",
      "RangeIndex: 4900 entries, 0 to 4899\n",
      "Data columns (total 18 columns):\n",
      " #   Column                Non-Null Count  Dtype  \n",
      "---  ------                --------------  -----  \n",
      " 0   Board Game Rank       4900 non-null   int64  \n",
      " 1   Title                 4900 non-null   object \n",
      " 2   Year                  4891 non-null   object \n",
      " 3   Description           3360 non-null   object \n",
      " 4   Geek Rating           4900 non-null   float64\n",
      " 5   Avg Rating            4900 non-null   float64\n",
      " 6   Num Voters            4900 non-null   int64  \n",
      " 7   Num Players Min       4899 non-null   float64\n",
      " 8   Num Players Max       4899 non-null   float64\n",
      " 9   Best Num Players Min  4580 non-null   float64\n",
      " 10  Best Num Players Max  4557 non-null   float64\n",
      " 11  Playtime Min          4899 non-null   float64\n",
      " 12  Playtime Max          4899 non-null   float64\n",
      " 13  Player Min Age        4899 non-null   float64\n",
      " 14  Language Dependence   4900 non-null   object \n",
      " 15  Weight                4900 non-null   float64\n",
      " 16  Category              4162 non-null   object \n",
      " 17  Designer              4872 non-null   object \n",
      "dtypes: float64(10), int64(2), object(6)\n",
      "memory usage: 689.2+ KB\n"
     ]
    }
   ],
   "source": [
    "df.info()"
   ]
  },
  {
   "cell_type": "code",
   "execution_count": 3,
   "metadata": {},
   "outputs": [
    {
     "data": {
      "text/html": [
       "<div>\n",
       "<style scoped>\n",
       "    .dataframe tbody tr th:only-of-type {\n",
       "        vertical-align: middle;\n",
       "    }\n",
       "\n",
       "    .dataframe tbody tr th {\n",
       "        vertical-align: top;\n",
       "    }\n",
       "\n",
       "    .dataframe thead th {\n",
       "        text-align: right;\n",
       "    }\n",
       "</style>\n",
       "<table border=\"1\" class=\"dataframe\">\n",
       "  <thead>\n",
       "    <tr style=\"text-align: right;\">\n",
       "      <th></th>\n",
       "      <th>Board Game Rank</th>\n",
       "      <th>Geek Rating</th>\n",
       "      <th>Avg Rating</th>\n",
       "      <th>Num Voters</th>\n",
       "      <th>Num Players Min</th>\n",
       "      <th>Num Players Max</th>\n",
       "      <th>Best Num Players Min</th>\n",
       "      <th>Best Num Players Max</th>\n",
       "      <th>Playtime Min</th>\n",
       "      <th>Playtime Max</th>\n",
       "      <th>Player Min Age</th>\n",
       "      <th>Weight</th>\n",
       "    </tr>\n",
       "  </thead>\n",
       "  <tbody>\n",
       "    <tr>\n",
       "      <th>count</th>\n",
       "      <td>4900.00000</td>\n",
       "      <td>4900.000000</td>\n",
       "      <td>4900.000000</td>\n",
       "      <td>4900.000000</td>\n",
       "      <td>4899.000000</td>\n",
       "      <td>4899.000000</td>\n",
       "      <td>4580.000000</td>\n",
       "      <td>4557.000000</td>\n",
       "      <td>4899.000000</td>\n",
       "      <td>4899.000000</td>\n",
       "      <td>4899.000000</td>\n",
       "      <td>4900.000000</td>\n",
       "    </tr>\n",
       "    <tr>\n",
       "      <th>mean</th>\n",
       "      <td>2450.50000</td>\n",
       "      <td>6.171708</td>\n",
       "      <td>7.089906</td>\n",
       "      <td>3046.353265</td>\n",
       "      <td>1.935497</td>\n",
       "      <td>5.271892</td>\n",
       "      <td>3.229039</td>\n",
       "      <td>3.468071</td>\n",
       "      <td>70.323535</td>\n",
       "      <td>112.685650</td>\n",
       "      <td>10.758114</td>\n",
       "      <td>2.361396</td>\n",
       "    </tr>\n",
       "    <tr>\n",
       "      <th>std</th>\n",
       "      <td>1414.65249</td>\n",
       "      <td>0.483325</td>\n",
       "      <td>0.553915</td>\n",
       "      <td>6747.121678</td>\n",
       "      <td>0.697311</td>\n",
       "      <td>7.879397</td>\n",
       "      <td>1.289562</td>\n",
       "      <td>1.535260</td>\n",
       "      <td>159.989456</td>\n",
       "      <td>465.923445</td>\n",
       "      <td>2.902751</td>\n",
       "      <td>0.795796</td>\n",
       "    </tr>\n",
       "    <tr>\n",
       "      <th>min</th>\n",
       "      <td>1.00000</td>\n",
       "      <td>5.696000</td>\n",
       "      <td>5.810000</td>\n",
       "      <td>136.000000</td>\n",
       "      <td>0.000000</td>\n",
       "      <td>0.000000</td>\n",
       "      <td>1.000000</td>\n",
       "      <td>1.000000</td>\n",
       "      <td>0.000000</td>\n",
       "      <td>0.000000</td>\n",
       "      <td>0.000000</td>\n",
       "      <td>0.000000</td>\n",
       "    </tr>\n",
       "    <tr>\n",
       "      <th>25%</th>\n",
       "      <td>1225.75000</td>\n",
       "      <td>5.802000</td>\n",
       "      <td>6.670000</td>\n",
       "      <td>524.000000</td>\n",
       "      <td>2.000000</td>\n",
       "      <td>4.000000</td>\n",
       "      <td>2.000000</td>\n",
       "      <td>2.000000</td>\n",
       "      <td>30.000000</td>\n",
       "      <td>30.000000</td>\n",
       "      <td>9.000000</td>\n",
       "      <td>1.785714</td>\n",
       "    </tr>\n",
       "    <tr>\n",
       "      <th>50%</th>\n",
       "      <td>2450.50000</td>\n",
       "      <td>6.000000</td>\n",
       "      <td>7.040000</td>\n",
       "      <td>1044.000000</td>\n",
       "      <td>2.000000</td>\n",
       "      <td>4.000000</td>\n",
       "      <td>3.000000</td>\n",
       "      <td>4.000000</td>\n",
       "      <td>45.000000</td>\n",
       "      <td>60.000000</td>\n",
       "      <td>12.000000</td>\n",
       "      <td>2.292893</td>\n",
       "    </tr>\n",
       "    <tr>\n",
       "      <th>75%</th>\n",
       "      <td>3675.25000</td>\n",
       "      <td>6.393000</td>\n",
       "      <td>7.460000</td>\n",
       "      <td>2496.000000</td>\n",
       "      <td>2.000000</td>\n",
       "      <td>6.000000</td>\n",
       "      <td>4.000000</td>\n",
       "      <td>4.000000</td>\n",
       "      <td>60.000000</td>\n",
       "      <td>100.000000</td>\n",
       "      <td>13.000000</td>\n",
       "      <td>2.893068</td>\n",
       "    </tr>\n",
       "    <tr>\n",
       "      <th>max</th>\n",
       "      <td>4900.00000</td>\n",
       "      <td>8.552000</td>\n",
       "      <td>8.990000</td>\n",
       "      <td>103666.000000</td>\n",
       "      <td>8.000000</td>\n",
       "      <td>100.000000</td>\n",
       "      <td>12.000000</td>\n",
       "      <td>31.000000</td>\n",
       "      <td>5400.000000</td>\n",
       "      <td>22500.000000</td>\n",
       "      <td>18.000000</td>\n",
       "      <td>4.844660</td>\n",
       "    </tr>\n",
       "  </tbody>\n",
       "</table>\n",
       "</div>"
      ],
      "text/plain": [
       "       Board Game Rank  Geek Rating   Avg Rating     Num Voters  \\\n",
       "count       4900.00000  4900.000000  4900.000000    4900.000000   \n",
       "mean        2450.50000     6.171708     7.089906    3046.353265   \n",
       "std         1414.65249     0.483325     0.553915    6747.121678   \n",
       "min            1.00000     5.696000     5.810000     136.000000   \n",
       "25%         1225.75000     5.802000     6.670000     524.000000   \n",
       "50%         2450.50000     6.000000     7.040000    1044.000000   \n",
       "75%         3675.25000     6.393000     7.460000    2496.000000   \n",
       "max         4900.00000     8.552000     8.990000  103666.000000   \n",
       "\n",
       "       Num Players Min  Num Players Max  Best Num Players Min  \\\n",
       "count      4899.000000      4899.000000           4580.000000   \n",
       "mean          1.935497         5.271892              3.229039   \n",
       "std           0.697311         7.879397              1.289562   \n",
       "min           0.000000         0.000000              1.000000   \n",
       "25%           2.000000         4.000000              2.000000   \n",
       "50%           2.000000         4.000000              3.000000   \n",
       "75%           2.000000         6.000000              4.000000   \n",
       "max           8.000000       100.000000             12.000000   \n",
       "\n",
       "       Best Num Players Max  Playtime Min  Playtime Max  Player Min Age  \\\n",
       "count           4557.000000   4899.000000   4899.000000     4899.000000   \n",
       "mean               3.468071     70.323535    112.685650       10.758114   \n",
       "std                1.535260    159.989456    465.923445        2.902751   \n",
       "min                1.000000      0.000000      0.000000        0.000000   \n",
       "25%                2.000000     30.000000     30.000000        9.000000   \n",
       "50%                4.000000     45.000000     60.000000       12.000000   \n",
       "75%                4.000000     60.000000    100.000000       13.000000   \n",
       "max               31.000000   5400.000000  22500.000000       18.000000   \n",
       "\n",
       "            Weight  \n",
       "count  4900.000000  \n",
       "mean      2.361396  \n",
       "std       0.795796  \n",
       "min       0.000000  \n",
       "25%       1.785714  \n",
       "50%       2.292893  \n",
       "75%       2.893068  \n",
       "max       4.844660  "
      ]
     },
     "execution_count": 3,
     "metadata": {},
     "output_type": "execute_result"
    }
   ],
   "source": [
    "df.describe()"
   ]
  },
  {
   "cell_type": "markdown",
   "metadata": {},
   "source": [
    "## <a class=\"anchor\" id=\"Clean-Data\">Part II : Clean data</a>\n",
    "- put the language dependence col as a (needed, semi needed, not needed) -> put it as dummy\n",
    "- get the type of planes (mysterious, cards...) -> put it as dummy\n",
    "- check for nan's"
   ]
  },
  {
   "cell_type": "markdown",
   "metadata": {},
   "source": [
    "### <a class=\"anchor\" id=\"Null-Values\">Null values</a>\n",
    "Check the missing values in the dataset. \n",
    "There are some columns in which a missing value can lead to removing the row whereas others the missing information is not highly relevant.\n",
    "\n",
    "For instance, it will not be accepted a row with missing _Title_ or _Boardgame Rank_ since those are indexes representing the ID of the boardgame. Noneofthelees, if the Description information is missing we can still use the row."
   ]
  },
  {
   "cell_type": "code",
   "execution_count": 7,
   "metadata": {},
   "outputs": [
    {
     "data": {
      "text/plain": [
       "Board Game Rank            0.0\n",
       "Title                      0.0\n",
       "Year                       9.0\n",
       "Description             1540.0\n",
       "Geek Rating                0.0\n",
       "Avg Rating                 0.0\n",
       "Num Voters                 0.0\n",
       "Num Players Min            0.0\n",
       "Num Players Max            0.0\n",
       "Best Num Players Min     320.0\n",
       "Best Num Players Max     343.0\n",
       "Playtime Min               0.0\n",
       "Playtime Max               0.0\n",
       "Player Min Age             0.0\n",
       "Language Dependence        0.0\n",
       "Weight                     0.0\n",
       "Category                 738.0\n",
       "Designer                  27.0\n",
       "dtype: float64"
      ]
     },
     "execution_count": 7,
     "metadata": {},
     "output_type": "execute_result"
    }
   ],
   "source": [
    "# The number of missing values in each column of the dataset\n",
    "df.isnull().mean()*df.shape[0]"
   ]
  },
  {
   "cell_type": "code",
   "execution_count": 8,
   "metadata": {},
   "outputs": [],
   "source": [
    "# Drop the rows with missing number of players\n",
    "df.dropna(subset=['Num Players Min','Num Players Max'], axis=0, inplace=True)"
   ]
  },
  {
   "cell_type": "code",
   "execution_count": 9,
   "metadata": {},
   "outputs": [
    {
     "data": {
      "text/plain": [
       "{'Best Num Players Max',\n",
       " 'Best Num Players Min',\n",
       " 'Category',\n",
       " 'Description',\n",
       " 'Designer',\n",
       " 'Year'}"
      ]
     },
     "execution_count": 9,
     "metadata": {},
     "output_type": "execute_result"
    }
   ],
   "source": [
    "# set of columns with missing values\n",
    "with_nulls = set(df.columns[df.isnull().mean()!=0])\n",
    "with_nulls"
   ]
  },
  {
   "cell_type": "markdown",
   "metadata": {},
   "source": [
    "### <a class=\"anchor\" id=\"Data-types\">Data types</a>\n",
    "* Title, Description, Designer -> transform to str\n",
    "* Year -> transform to int\n",
    "* Language dependece and category -> clean to be categorical"
   ]
  },
  {
   "cell_type": "code",
   "execution_count": 10,
   "metadata": {},
   "outputs": [],
   "source": [
    "# convert string columns to string using astype:\n",
    "# there are some years being Revised Edition -> set them to Nan\n",
    "# from 9 NaN it turns to be 111 without real year\n",
    "df['Year_Num'] = pd.to_numeric(df['Year'], errors='coerce')"
   ]
  },
  {
   "cell_type": "code",
   "execution_count": 11,
   "metadata": {},
   "outputs": [
    {
     "name": "stdout",
     "output_type": "stream",
     "text": [
      "(9, 19)\n",
      "(111, 19)\n"
     ]
    }
   ],
   "source": [
    "print(df[df.Year.isnull() == True].shape)\n",
    "print(df[df.Year_Num.isnull() == True].shape)"
   ]
  },
  {
   "cell_type": "markdown",
   "metadata": {},
   "source": [
    "### <a class=\"anchor\" id=\"Categorical-Variables\">Categorical variables</a>\n",
    "One of the main ways for working with categorical variables is using 0, 1 encodings. In this technique, you create a new column for every level of the categorical variable. The advantages of this approach include:\n",
    "\n",
    "The ability to have differing influences of each level on the response.\n",
    "You do not impose a rank of the categories.\n",
    "The ability to interpret the results more easily than other encodings.\n",
    "The disadvantages of this approach are that you introduce a large number of effects into your model.\n",
    "\n",
    "In our dataset we can transform to columns as categorical variables:\n",
    "* _Language Dependence_: representing the degree of dependancy of the language when playing the game\n",
    "* _Category_: different types of category"
   ]
  },
  {
   "cell_type": "code",
   "execution_count": 13,
   "metadata": {},
   "outputs": [
    {
     "data": {
      "text/plain": [
       "Index(['Title', 'Year', 'Description', 'Language Dependence', 'Category',\n",
       "       'Designer'],\n",
       "      dtype='object')"
      ]
     },
     "execution_count": 13,
     "metadata": {},
     "output_type": "execute_result"
    }
   ],
   "source": [
    "# Identify columns that are categorical in nature\n",
    "cat_df = df.select_dtypes(include=['object']) # Subset to a dataframe only holding the categorical columns\n",
    "\n",
    "# Print how many categorical columns\n",
    "cat_df.columns"
   ]
  },
  {
   "cell_type": "code",
   "execution_count": 14,
   "metadata": {},
   "outputs": [
    {
     "data": {
      "text/plain": [
       "0    Extensive use of text - massive conversion nee...\n",
       "1    Extensive use of text - massive conversion nee...\n",
       "2                            No necessary in-game text\n",
       "3    Moderate in-game text - needs crib sheet or pa...\n",
       "4    Extensive use of text - massive conversion nee...\n",
       "Name: Language Dependence, dtype: object"
      ]
     },
     "execution_count": 14,
     "metadata": {},
     "output_type": "execute_result"
    }
   ],
   "source": [
    "# Add an extra column with language dependence as a categorical variable\n",
    "df['Language Dependence'].head()"
   ]
  },
  {
   "cell_type": "code",
   "execution_count": 15,
   "metadata": {},
   "outputs": [],
   "source": [
    "# divide the language dependence into three categorical values\n",
    "language_dependece_cat = []\n",
    "for dependence in df['Language Dependence']:\n",
    "    if('Unplayable' in dependence):\n",
    "        language_dependece_cat.append('Extensive')\n",
    "    elif('Extensive' in dependence):\n",
    "        language_dependece_cat.append('Extensive')\n",
    "    elif('Moderate' in dependence):\n",
    "        language_dependece_cat.append('Moderate')\n",
    "    elif('Some necessary' in dependence):\n",
    "        language_dependece_cat.append('Moderate')\n",
    "    elif('No necessary' in dependence):\n",
    "        language_dependece_cat.append('No')\n",
    "    else:\n",
    "        language_dependece_cat.append(math.nan)"
   ]
  },
  {
   "cell_type": "code",
   "execution_count": 16,
   "metadata": {},
   "outputs": [
    {
     "data": {
      "text/html": [
       "<div>\n",
       "<style scoped>\n",
       "    .dataframe tbody tr th:only-of-type {\n",
       "        vertical-align: middle;\n",
       "    }\n",
       "\n",
       "    .dataframe tbody tr th {\n",
       "        vertical-align: top;\n",
       "    }\n",
       "\n",
       "    .dataframe thead th {\n",
       "        text-align: right;\n",
       "    }\n",
       "</style>\n",
       "<table border=\"1\" class=\"dataframe\">\n",
       "  <thead>\n",
       "    <tr style=\"text-align: right;\">\n",
       "      <th></th>\n",
       "      <th>Board Game Rank</th>\n",
       "      <th>Title</th>\n",
       "      <th>Year</th>\n",
       "      <th>Description</th>\n",
       "      <th>Geek Rating</th>\n",
       "      <th>Avg Rating</th>\n",
       "      <th>Num Voters</th>\n",
       "      <th>Num Players Min</th>\n",
       "      <th>Num Players Max</th>\n",
       "      <th>Best Num Players Min</th>\n",
       "      <th>Best Num Players Max</th>\n",
       "      <th>Playtime Min</th>\n",
       "      <th>Playtime Max</th>\n",
       "      <th>Player Min Age</th>\n",
       "      <th>Language Dependence</th>\n",
       "      <th>Language</th>\n",
       "      <th>Weight</th>\n",
       "      <th>Category</th>\n",
       "      <th>Designer</th>\n",
       "      <th>Year_Num</th>\n",
       "    </tr>\n",
       "  </thead>\n",
       "  <tbody>\n",
       "    <tr>\n",
       "      <th>0</th>\n",
       "      <td>1</td>\n",
       "      <td>Gloomhaven</td>\n",
       "      <td>2017</td>\n",
       "      <td>Vanquish monsters with strategic cardplay. Ful...</td>\n",
       "      <td>8.552</td>\n",
       "      <td>8.79</td>\n",
       "      <td>43254</td>\n",
       "      <td>1.0</td>\n",
       "      <td>4.0</td>\n",
       "      <td>3.0</td>\n",
       "      <td>3.0</td>\n",
       "      <td>60.0</td>\n",
       "      <td>120.0</td>\n",
       "      <td>14.0</td>\n",
       "      <td>Extensive use of text - massive conversion nee...</td>\n",
       "      <td>Extensive</td>\n",
       "      <td>3.863102</td>\n",
       "      <td>Thematic | Strategy</td>\n",
       "      <td>Isaac Childres</td>\n",
       "      <td>2017.0</td>\n",
       "    </tr>\n",
       "    <tr>\n",
       "      <th>1</th>\n",
       "      <td>2</td>\n",
       "      <td>Pandemic Legacy: Season 1</td>\n",
       "      <td>2015</td>\n",
       "      <td>Mutating diseases are spreading around the wor...</td>\n",
       "      <td>8.461</td>\n",
       "      <td>8.61</td>\n",
       "      <td>42367</td>\n",
       "      <td>2.0</td>\n",
       "      <td>4.0</td>\n",
       "      <td>4.0</td>\n",
       "      <td>4.0</td>\n",
       "      <td>60.0</td>\n",
       "      <td>60.0</td>\n",
       "      <td>13.0</td>\n",
       "      <td>Extensive use of text - massive conversion nee...</td>\n",
       "      <td>Extensive</td>\n",
       "      <td>2.839793</td>\n",
       "      <td>Thematic | Strategy</td>\n",
       "      <td>Rob Daviau</td>\n",
       "      <td>2015.0</td>\n",
       "    </tr>\n",
       "    <tr>\n",
       "      <th>2</th>\n",
       "      <td>3</td>\n",
       "      <td>Brass: Birmingham</td>\n",
       "      <td>2018</td>\n",
       "      <td>Build networks, grow industries, and navigate ...</td>\n",
       "      <td>8.391</td>\n",
       "      <td>8.67</td>\n",
       "      <td>20391</td>\n",
       "      <td>2.0</td>\n",
       "      <td>4.0</td>\n",
       "      <td>3.0</td>\n",
       "      <td>4.0</td>\n",
       "      <td>60.0</td>\n",
       "      <td>120.0</td>\n",
       "      <td>14.0</td>\n",
       "      <td>No necessary in-game text</td>\n",
       "      <td>No</td>\n",
       "      <td>3.910296</td>\n",
       "      <td>Strategy</td>\n",
       "      <td>Gavan Brown</td>\n",
       "      <td>2018.0</td>\n",
       "    </tr>\n",
       "  </tbody>\n",
       "</table>\n",
       "</div>"
      ],
      "text/plain": [
       "   Board Game Rank                      Title  Year  \\\n",
       "0                1                 Gloomhaven  2017   \n",
       "1                2  Pandemic Legacy: Season 1  2015   \n",
       "2                3          Brass: Birmingham  2018   \n",
       "\n",
       "                                         Description  Geek Rating  Avg Rating  \\\n",
       "0  Vanquish monsters with strategic cardplay. Ful...        8.552        8.79   \n",
       "1  Mutating diseases are spreading around the wor...        8.461        8.61   \n",
       "2  Build networks, grow industries, and navigate ...        8.391        8.67   \n",
       "\n",
       "   Num Voters  Num Players Min  Num Players Max  Best Num Players Min  \\\n",
       "0       43254              1.0              4.0                   3.0   \n",
       "1       42367              2.0              4.0                   4.0   \n",
       "2       20391              2.0              4.0                   3.0   \n",
       "\n",
       "   Best Num Players Max  Playtime Min  Playtime Max  Player Min Age  \\\n",
       "0                   3.0          60.0         120.0            14.0   \n",
       "1                   4.0          60.0          60.0            13.0   \n",
       "2                   4.0          60.0         120.0            14.0   \n",
       "\n",
       "                                 Language Dependence   Language    Weight  \\\n",
       "0  Extensive use of text - massive conversion nee...  Extensive  3.863102   \n",
       "1  Extensive use of text - massive conversion nee...  Extensive  2.839793   \n",
       "2                          No necessary in-game text         No  3.910296   \n",
       "\n",
       "               Category        Designer  Year_Num  \n",
       "0  Thematic | Strategy   Isaac Childres    2017.0  \n",
       "1  Thematic | Strategy       Rob Daviau    2015.0  \n",
       "2             Strategy      Gavan Brown    2018.0  "
      ]
     },
     "execution_count": 16,
     "metadata": {},
     "output_type": "execute_result"
    }
   ],
   "source": [
    "col_index = df.columns.get_loc(\"Language Dependence\")\n",
    "df.insert(col_index+1, 'Language', language_dependece_cat, True)\n",
    "df.head(3)"
   ]
  },
  {
   "cell_type": "code",
   "execution_count": 17,
   "metadata": {},
   "outputs": [
    {
     "data": {
      "image/png": "[encoded data removed]",
      "text/plain": [
       "<Figure size 432x288 with 1 Axes>"
      ]
     },
     "metadata": {
      "needs_background": "light"
     },
     "output_type": "display_data"
    }
   ],
   "source": [
    "#Provide a pandas series of the counts for each Language dependence\n",
    "language_vals = df['Language'].value_counts()\n",
    "\n",
    "# Bar chart of the language dependency category\n",
    "\n",
    "(language_vals/df.shape[0]).plot(kind=\"bar\");\n",
    "plt.title(\"Is language a requirement?\");"
   ]
  },
  {
   "cell_type": "code",
   "execution_count": 18,
   "metadata": {},
   "outputs": [
    {
     "name": "stdout",
     "output_type": "stream",
     "text": [
      "Language column has ['Extensive' 'No' 'Moderate' nan] as unique values\n"
     ]
    },
    {
     "data": {
      "text/html": [
       "<div>\n",
       "<style scoped>\n",
       "    .dataframe tbody tr th:only-of-type {\n",
       "        vertical-align: middle;\n",
       "    }\n",
       "\n",
       "    .dataframe tbody tr th {\n",
       "        vertical-align: top;\n",
       "    }\n",
       "\n",
       "    .dataframe thead th {\n",
       "        text-align: right;\n",
       "    }\n",
       "</style>\n",
       "<table border=\"1\" class=\"dataframe\">\n",
       "  <thead>\n",
       "    <tr style=\"text-align: right;\">\n",
       "      <th></th>\n",
       "      <th>Extensive</th>\n",
       "      <th>Moderate</th>\n",
       "      <th>No</th>\n",
       "    </tr>\n",
       "  </thead>\n",
       "  <tbody>\n",
       "    <tr>\n",
       "      <th>0</th>\n",
       "      <td>1</td>\n",
       "      <td>0</td>\n",
       "      <td>0</td>\n",
       "    </tr>\n",
       "    <tr>\n",
       "      <th>1</th>\n",
       "      <td>1</td>\n",
       "      <td>0</td>\n",
       "      <td>0</td>\n",
       "    </tr>\n",
       "    <tr>\n",
       "      <th>2</th>\n",
       "      <td>0</td>\n",
       "      <td>0</td>\n",
       "      <td>1</td>\n",
       "    </tr>\n",
       "    <tr>\n",
       "      <th>3</th>\n",
       "      <td>0</td>\n",
       "      <td>1</td>\n",
       "      <td>0</td>\n",
       "    </tr>\n",
       "    <tr>\n",
       "      <th>4</th>\n",
       "      <td>1</td>\n",
       "      <td>0</td>\n",
       "      <td>0</td>\n",
       "    </tr>\n",
       "  </tbody>\n",
       "</table>\n",
       "</div>"
      ],
      "text/plain": [
       "   Extensive  Moderate  No\n",
       "0          1         0   0\n",
       "1          1         0   0\n",
       "2          0         0   1\n",
       "3          0         1   0\n",
       "4          1         0   0"
      ]
     },
     "execution_count": 18,
     "metadata": {},
     "output_type": "execute_result"
    }
   ],
   "source": [
    "# For each of the categorical variables create a column\n",
    "# Ignore NaN columns (dummy_na=False) -> do not create an extra col for the nan values, they are set to 0\n",
    "print('Language column has {} as unique values'.format(df['Language'].unique()))\n",
    "language_dummy_df = pd.get_dummies(df['Language'], dummy_na=False).head()\n",
    "language_dummy_df"
   ]
  },
  {
   "cell_type": "code",
   "execution_count": 19,
   "metadata": {},
   "outputs": [
    {
     "data": {
      "text/plain": [
       "0    Thematic | Strategy \n",
       "1    Thematic | Strategy \n",
       "2               Strategy \n",
       "3               Strategy \n",
       "4    Thematic | Strategy \n",
       "Name: Category, dtype: object"
      ]
     },
     "execution_count": 19,
     "metadata": {},
     "output_type": "execute_result"
    }
   ],
   "source": [
    "# have a look at the different boardgame categories\n",
    "df['Category'].head()"
   ]
  },
  {
   "cell_type": "code",
   "execution_count": 20,
   "metadata": {},
   "outputs": [
    {
     "data": {
      "text/plain": [
       "array(['Thematic | Strategy ', 'Strategy ', 'Thematic',\n",
       "       'War  | Strategy ', 'War  | Thematic', 'Strategy  | Family ',\n",
       "       'Customizable | Thematic', 'Customizable', 'Abstract  | Family ',\n",
       "       'Family ', 'Party ', 'War  | Customizable', 'War ',\n",
       "       'Thematic | Party ', 'Abstract ', 'Customizable | Strategy ',\n",
       "       'Thematic | Family ', 'Party  | Family ', 'Abstract  | Strategy ',\n",
       "       nan, \"Children's  | Family \", \"Children's \", 'Strategy  | Party ',\n",
       "       \"Children's  | Party \", 'Abstract  | Customizable',\n",
       "       'Thematic | Strategy  | Family ', 'Thematic | Party  | Family ',\n",
       "       'War  | Thematic | Strategy ', 'Abstract  | Party ',\n",
       "       \"Children's  | Abstract \"], dtype=object)"
      ]
     },
     "execution_count": 20,
     "metadata": {},
     "output_type": "execute_result"
    }
   ],
   "source": [
    "df['Category'].unique()"
   ]
  },
  {
   "cell_type": "code",
   "execution_count": 21,
   "metadata": {},
   "outputs": [
    {
     "name": "stdout",
     "output_type": "stream",
     "text": [
      "There are 9 categories: ['Thematic', 'Strategy', 'War', 'Family', 'Customizable', 'Abstract', 'Party', 'nan', \"Children's\"]\n"
     ]
    }
   ],
   "source": [
    "# get unique values\n",
    "cat = []\n",
    "for categories in df['Category']:\n",
    "    for category in str(categories).split('|'):\n",
    "        category = category.strip()\n",
    "        if (category not in cat):\n",
    "            cat.append(category)\n",
    "            \n",
    "print('There are {} categories: {}'.format(len(cat), cat))"
   ]
  },
  {
   "cell_type": "code",
   "execution_count": 22,
   "metadata": {},
   "outputs": [
    {
     "data": {
      "text/plain": [
       "0    Thematic | Strategy \n",
       "1    Thematic | Strategy \n",
       "2               Strategy \n",
       "3               Strategy \n",
       "4    Thematic | Strategy \n",
       "Name: Category, dtype: object"
      ]
     },
     "execution_count": 22,
     "metadata": {},
     "output_type": "execute_result"
    }
   ],
   "source": [
    "df['Category'].head()"
   ]
  },
  {
   "cell_type": "code",
   "execution_count": 23,
   "metadata": {},
   "outputs": [
    {
     "data": {
      "text/html": [
       "<div>\n",
       "<style scoped>\n",
       "    .dataframe tbody tr th:only-of-type {\n",
       "        vertical-align: middle;\n",
       "    }\n",
       "\n",
       "    .dataframe tbody tr th {\n",
       "        vertical-align: top;\n",
       "    }\n",
       "\n",
       "    .dataframe thead th {\n",
       "        text-align: right;\n",
       "    }\n",
       "</style>\n",
       "<table border=\"1\" class=\"dataframe\">\n",
       "  <thead>\n",
       "    <tr style=\"text-align: right;\">\n",
       "      <th></th>\n",
       "      <th>Abstract</th>\n",
       "      <th>Children's</th>\n",
       "      <th>Customizable</th>\n",
       "      <th>Family</th>\n",
       "      <th>Party</th>\n",
       "      <th>Strategy</th>\n",
       "      <th>Thematic</th>\n",
       "      <th>War</th>\n",
       "    </tr>\n",
       "  </thead>\n",
       "  <tbody>\n",
       "    <tr>\n",
       "      <th>0</th>\n",
       "      <td>0</td>\n",
       "      <td>0</td>\n",
       "      <td>0</td>\n",
       "      <td>0</td>\n",
       "      <td>0</td>\n",
       "      <td>1</td>\n",
       "      <td>1</td>\n",
       "      <td>0</td>\n",
       "    </tr>\n",
       "    <tr>\n",
       "      <th>1</th>\n",
       "      <td>0</td>\n",
       "      <td>0</td>\n",
       "      <td>0</td>\n",
       "      <td>0</td>\n",
       "      <td>0</td>\n",
       "      <td>1</td>\n",
       "      <td>1</td>\n",
       "      <td>0</td>\n",
       "    </tr>\n",
       "    <tr>\n",
       "      <th>2</th>\n",
       "      <td>0</td>\n",
       "      <td>0</td>\n",
       "      <td>0</td>\n",
       "      <td>0</td>\n",
       "      <td>0</td>\n",
       "      <td>1</td>\n",
       "      <td>0</td>\n",
       "      <td>0</td>\n",
       "    </tr>\n",
       "    <tr>\n",
       "      <th>3</th>\n",
       "      <td>0</td>\n",
       "      <td>0</td>\n",
       "      <td>0</td>\n",
       "      <td>0</td>\n",
       "      <td>0</td>\n",
       "      <td>1</td>\n",
       "      <td>0</td>\n",
       "      <td>0</td>\n",
       "    </tr>\n",
       "    <tr>\n",
       "      <th>4</th>\n",
       "      <td>0</td>\n",
       "      <td>0</td>\n",
       "      <td>0</td>\n",
       "      <td>0</td>\n",
       "      <td>0</td>\n",
       "      <td>1</td>\n",
       "      <td>1</td>\n",
       "      <td>0</td>\n",
       "    </tr>\n",
       "  </tbody>\n",
       "</table>\n",
       "</div>"
      ],
      "text/plain": [
       "   Abstract  Children's  Customizable  Family  Party  Strategy  Thematic  War\n",
       "0         0           0             0       0      0         1         1    0\n",
       "1         0           0             0       0      0         1         1    0\n",
       "2         0           0             0       0      0         1         0    0\n",
       "3         0           0             0       0      0         1         0    0\n",
       "4         0           0             0       0      0         1         1    0"
      ]
     },
     "execution_count": 23,
     "metadata": {},
     "output_type": "execute_result"
    }
   ],
   "source": [
    "category_dummy_df = df['Category'].str.replace(\" \",\"\").str.get_dummies(\"|\").head()\n",
    "category_dummy_df"
   ]
  },
  {
   "cell_type": "code",
   "execution_count": 24,
   "metadata": {},
   "outputs": [
    {
     "data": {
      "image/png": "[encoded data removed]",
      "text/plain": [
       "<Figure size 432x288 with 1 Axes>"
      ]
     },
     "metadata": {
      "needs_background": "light"
     },
     "output_type": "display_data"
    }
   ],
   "source": [
    "#Provide a pandas series of the counts for each Language dependence\n",
    "language_vals = df['Category'].value_counts()\n",
    "\n",
    "# Bar chart of the language dependency category\n",
    "\n",
    "(language_vals/df.shape[0]).plot(kind=\"bar\");\n",
    "plt.title(\"Boardgames categories\");"
   ]
  },
  {
   "cell_type": "code",
   "execution_count": 25,
   "metadata": {},
   "outputs": [
    {
     "data": {
      "text/plain": [
       "([<matplotlib.axis.XTick at 0x25f05cfb190>,\n",
       "  <matplotlib.axis.XTick at 0x25f05cfb100>,\n",
       "  <matplotlib.axis.XTick at 0x25f05cdff70>,\n",
       "  <matplotlib.axis.XTick at 0x25f05d488b0>,\n",
       "  <matplotlib.axis.XTick at 0x25f05d48460>,\n",
       "  <matplotlib.axis.XTick at 0x25f05d487c0>,\n",
       "  <matplotlib.axis.XTick at 0x25f05d48ee0>,\n",
       "  <matplotlib.axis.XTick at 0x25f05d4eb20>,\n",
       "  <matplotlib.axis.XTick at 0x25f05d4e250>],\n",
       " [Text(0, 0, 'Thematic'),\n",
       "  Text(1, 0, 'Strategy'),\n",
       "  Text(2, 0, 'War'),\n",
       "  Text(3, 0, 'Family'),\n",
       "  Text(4, 0, 'Customizable'),\n",
       "  Text(5, 0, 'Abstract'),\n",
       "  Text(6, 0, 'Party'),\n",
       "  Text(7, 0, 'nan'),\n",
       "  Text(8, 0, \"Children's\")])"
      ]
     },
     "execution_count": 25,
     "metadata": {},
     "output_type": "execute_result"
    },
    {
     "data": {
      "image/png": "[encoded data removed]",
      "text/plain": [
       "<Figure size 432x288 with 1 Axes>"
      ]
     },
     "metadata": {
      "needs_background": "light"
     },
     "output_type": "display_data"
    }
   ],
   "source": [
    "cat_all = []\n",
    "for categories in df['Category']:\n",
    "    for category in str(categories).split('|'):\n",
    "        cat_all.append(category.strip())\n",
    "\n",
    "from collections import Counter\n",
    "        \n",
    "#Provide a pandas series of the counts for each Language dependence\n",
    "cat_vals = Counter(cat_all)\n",
    "\n",
    "# Bar chart of the language dependency category\n",
    "#(language_vals/df.shape[0]).plot(kind=\"bar\");\n",
    "plt.title(\"Boardgames categories\");\n",
    "plt.bar(range(len(cat_vals)), list(cat_vals.values()), align='center')\n",
    "plt.xticks(range(len(cat_vals)), list(cat_vals.keys()), rotation='vertical')"
   ]
  },
  {
   "cell_type": "code",
   "execution_count": 26,
   "metadata": {},
   "outputs": [
    {
     "data": {
      "text/html": [
       "<div>\n",
       "<style scoped>\n",
       "    .dataframe tbody tr th:only-of-type {\n",
       "        vertical-align: middle;\n",
       "    }\n",
       "\n",
       "    .dataframe tbody tr th {\n",
       "        vertical-align: top;\n",
       "    }\n",
       "\n",
       "    .dataframe thead th {\n",
       "        text-align: right;\n",
       "    }\n",
       "</style>\n",
       "<table border=\"1\" class=\"dataframe\">\n",
       "  <thead>\n",
       "    <tr style=\"text-align: right;\">\n",
       "      <th></th>\n",
       "      <th>Board Game Rank</th>\n",
       "      <th>Title</th>\n",
       "      <th>Year</th>\n",
       "      <th>Description</th>\n",
       "      <th>Geek Rating</th>\n",
       "      <th>Avg Rating</th>\n",
       "      <th>Num Voters</th>\n",
       "      <th>Num Players Min</th>\n",
       "      <th>Num Players Max</th>\n",
       "      <th>Best Num Players Min</th>\n",
       "      <th>...</th>\n",
       "      <th>Moderate</th>\n",
       "      <th>No</th>\n",
       "      <th>Abstract</th>\n",
       "      <th>Children's</th>\n",
       "      <th>Customizable</th>\n",
       "      <th>Family</th>\n",
       "      <th>Party</th>\n",
       "      <th>Strategy</th>\n",
       "      <th>Thematic</th>\n",
       "      <th>War</th>\n",
       "    </tr>\n",
       "  </thead>\n",
       "  <tbody>\n",
       "    <tr>\n",
       "      <th>0</th>\n",
       "      <td>1</td>\n",
       "      <td>Gloomhaven</td>\n",
       "      <td>2017</td>\n",
       "      <td>Vanquish monsters with strategic cardplay. Ful...</td>\n",
       "      <td>8.552</td>\n",
       "      <td>8.79</td>\n",
       "      <td>43254</td>\n",
       "      <td>1.0</td>\n",
       "      <td>4.0</td>\n",
       "      <td>3.0</td>\n",
       "      <td>...</td>\n",
       "      <td>0.0</td>\n",
       "      <td>0.0</td>\n",
       "      <td>0.0</td>\n",
       "      <td>0.0</td>\n",
       "      <td>0.0</td>\n",
       "      <td>0.0</td>\n",
       "      <td>0.0</td>\n",
       "      <td>1.0</td>\n",
       "      <td>1.0</td>\n",
       "      <td>0.0</td>\n",
       "    </tr>\n",
       "    <tr>\n",
       "      <th>1</th>\n",
       "      <td>2</td>\n",
       "      <td>Pandemic Legacy: Season 1</td>\n",
       "      <td>2015</td>\n",
       "      <td>Mutating diseases are spreading around the wor...</td>\n",
       "      <td>8.461</td>\n",
       "      <td>8.61</td>\n",
       "      <td>42367</td>\n",
       "      <td>2.0</td>\n",
       "      <td>4.0</td>\n",
       "      <td>4.0</td>\n",
       "      <td>...</td>\n",
       "      <td>0.0</td>\n",
       "      <td>0.0</td>\n",
       "      <td>0.0</td>\n",
       "      <td>0.0</td>\n",
       "      <td>0.0</td>\n",
       "      <td>0.0</td>\n",
       "      <td>0.0</td>\n",
       "      <td>1.0</td>\n",
       "      <td>1.0</td>\n",
       "      <td>0.0</td>\n",
       "    </tr>\n",
       "    <tr>\n",
       "      <th>2</th>\n",
       "      <td>3</td>\n",
       "      <td>Brass: Birmingham</td>\n",
       "      <td>2018</td>\n",
       "      <td>Build networks, grow industries, and navigate ...</td>\n",
       "      <td>8.391</td>\n",
       "      <td>8.67</td>\n",
       "      <td>20391</td>\n",
       "      <td>2.0</td>\n",
       "      <td>4.0</td>\n",
       "      <td>3.0</td>\n",
       "      <td>...</td>\n",
       "      <td>0.0</td>\n",
       "      <td>1.0</td>\n",
       "      <td>0.0</td>\n",
       "      <td>0.0</td>\n",
       "      <td>0.0</td>\n",
       "      <td>0.0</td>\n",
       "      <td>0.0</td>\n",
       "      <td>1.0</td>\n",
       "      <td>0.0</td>\n",
       "      <td>0.0</td>\n",
       "    </tr>\n",
       "    <tr>\n",
       "      <th>3</th>\n",
       "      <td>4</td>\n",
       "      <td>Terraforming Mars</td>\n",
       "      <td>2016</td>\n",
       "      <td>Compete with rival CEOs to make Mars habitable...</td>\n",
       "      <td>8.285</td>\n",
       "      <td>8.43</td>\n",
       "      <td>66708</td>\n",
       "      <td>1.0</td>\n",
       "      <td>5.0</td>\n",
       "      <td>3.0</td>\n",
       "      <td>...</td>\n",
       "      <td>1.0</td>\n",
       "      <td>0.0</td>\n",
       "      <td>0.0</td>\n",
       "      <td>0.0</td>\n",
       "      <td>0.0</td>\n",
       "      <td>0.0</td>\n",
       "      <td>0.0</td>\n",
       "      <td>1.0</td>\n",
       "      <td>0.0</td>\n",
       "      <td>0.0</td>\n",
       "    </tr>\n",
       "    <tr>\n",
       "      <th>4</th>\n",
       "      <td>5</td>\n",
       "      <td>Twilight Imperium: Fourth Edition</td>\n",
       "      <td>2017</td>\n",
       "      <td>Build an intergalactic empire through trade, r...</td>\n",
       "      <td>8.254</td>\n",
       "      <td>8.69</td>\n",
       "      <td>13930</td>\n",
       "      <td>3.0</td>\n",
       "      <td>6.0</td>\n",
       "      <td>6.0</td>\n",
       "      <td>...</td>\n",
       "      <td>0.0</td>\n",
       "      <td>0.0</td>\n",
       "      <td>0.0</td>\n",
       "      <td>0.0</td>\n",
       "      <td>0.0</td>\n",
       "      <td>0.0</td>\n",
       "      <td>0.0</td>\n",
       "      <td>1.0</td>\n",
       "      <td>1.0</td>\n",
       "      <td>0.0</td>\n",
       "    </tr>\n",
       "  </tbody>\n",
       "</table>\n",
       "<p>5 rows × 31 columns</p>\n",
       "</div>"
      ],
      "text/plain": [
       "   Board Game Rank                              Title  Year  \\\n",
       "0                1                         Gloomhaven  2017   \n",
       "1                2          Pandemic Legacy: Season 1  2015   \n",
       "2                3                  Brass: Birmingham  2018   \n",
       "3                4                  Terraforming Mars  2016   \n",
       "4                5  Twilight Imperium: Fourth Edition  2017   \n",
       "\n",
       "                                         Description  Geek Rating  Avg Rating  \\\n",
       "0  Vanquish monsters with strategic cardplay. Ful...        8.552        8.79   \n",
       "1  Mutating diseases are spreading around the wor...        8.461        8.61   \n",
       "2  Build networks, grow industries, and navigate ...        8.391        8.67   \n",
       "3  Compete with rival CEOs to make Mars habitable...        8.285        8.43   \n",
       "4  Build an intergalactic empire through trade, r...        8.254        8.69   \n",
       "\n",
       "   Num Voters  Num Players Min  Num Players Max  Best Num Players Min  ...  \\\n",
       "0       43254              1.0              4.0                   3.0  ...   \n",
       "1       42367              2.0              4.0                   4.0  ...   \n",
       "2       20391              2.0              4.0                   3.0  ...   \n",
       "3       66708              1.0              5.0                   3.0  ...   \n",
       "4       13930              3.0              6.0                   6.0  ...   \n",
       "\n",
       "   Moderate   No  Abstract  Children's Customizable Family  Party Strategy  \\\n",
       "0       0.0  0.0       0.0         0.0          0.0    0.0    0.0      1.0   \n",
       "1       0.0  0.0       0.0         0.0          0.0    0.0    0.0      1.0   \n",
       "2       0.0  1.0       0.0         0.0          0.0    0.0    0.0      1.0   \n",
       "3       1.0  0.0       0.0         0.0          0.0    0.0    0.0      1.0   \n",
       "4       0.0  0.0       0.0         0.0          0.0    0.0    0.0      1.0   \n",
       "\n",
       "  Thematic  War  \n",
       "0      1.0  0.0  \n",
       "1      1.0  0.0  \n",
       "2      0.0  0.0  \n",
       "3      0.0  0.0  \n",
       "4      1.0  0.0  \n",
       "\n",
       "[5 rows x 31 columns]"
      ]
     },
     "execution_count": 26,
     "metadata": {},
     "output_type": "execute_result"
    }
   ],
   "source": [
    "# merge numerical columns\n",
    "df_all_num = pd.concat([df, language_dummy_df, category_dummy_df], axis=1)\n",
    "df_all_num.head()"
   ]
  },
  {
   "cell_type": "code",
   "execution_count": 27,
   "metadata": {},
   "outputs": [
    {
     "data": {
      "text/plain": [
       "Index(['Board Game Rank', 'Title', 'Year', 'Description', 'Geek Rating',\n",
       "       'Avg Rating', 'Num Voters', 'Num Players Min', 'Num Players Max',\n",
       "       'Best Num Players Min', 'Best Num Players Max', 'Playtime Min',\n",
       "       'Playtime Max', 'Player Min Age', 'Language Dependence', 'Language',\n",
       "       'Weight', 'Category', 'Designer', 'Year_Num', 'Extensive', 'Moderate',\n",
       "       'No', 'Abstract', 'Children's', 'Customizable', 'Family', 'Party',\n",
       "       'Strategy', 'Thematic', 'War'],\n",
       "      dtype='object')"
      ]
     },
     "execution_count": 27,
     "metadata": {},
     "output_type": "execute_result"
    }
   ],
   "source": [
    "df_all_num.columns"
   ]
  },
  {
   "cell_type": "code",
   "execution_count": 28,
   "metadata": {},
   "outputs": [
    {
     "data": {
      "text/plain": [
       "Index(['Board Game Rank', 'Title', 'Year', 'Description', 'Geek Rating',\n",
       "       'Avg Rating', 'Num Voters', 'Num Players Min', 'Num Players Max',\n",
       "       'Best Num Players Min', 'Best Num Players Max', 'Playtime Min',\n",
       "       'Playtime Max', 'Player Min Age', 'Weight', 'Designer', 'Year_Num',\n",
       "       'Extensive', 'Moderate', 'No', 'Abstract', 'Children's', 'Customizable',\n",
       "       'Family', 'Party', 'Strategy', 'Thematic', 'War'],\n",
       "      dtype='object')"
      ]
     },
     "execution_count": 28,
     "metadata": {},
     "output_type": "execute_result"
    }
   ],
   "source": [
    "df_all_num.drop(labels=['Language', 'Language Dependence', 'Category'], axis=1, inplace=True)\n",
    "df_all_num.columns"
   ]
  },
  {
   "cell_type": "code",
   "execution_count": 29,
   "metadata": {},
   "outputs": [],
   "source": [
    "# save cleaned data \n",
    "df_all_num.to_pickle(\"Boardgame//data//boardgame_data_clean.pkl\")"
   ]
  },
  {
   "cell_type": "markdown",
   "metadata": {},
   "source": [
    "### <a class=\"anchor\" id=\"Data-Visualization\">Part III : Data Visualization</a>\n",
    "- put the language dependence col as a (needed, semi needed, not needed) -> put it as dummy\n",
    "- get the type of planes (mysterious, cards...) -> put it as dummy\n",
    "- check for nan's"
   ]
  },
  {
   "cell_type": "code",
   "execution_count": 30,
   "metadata": {},
   "outputs": [
    {
     "name": "stdout",
     "output_type": "stream",
     "text": [
      "The average rating given across all ratings 7.089902020820596\n",
      "The max rating given across all ratings 8.99\n",
      "The min rating given across all ratings 5.81\n"
     ]
    }
   ],
   "source": [
    "print('The average rating given across all ratings', df['Avg Rating'].mean())\n",
    "print('The max rating given across all ratings', df['Avg Rating'].max())\n",
    "print('The min rating given across all ratings', df['Avg Rating'].min())"
   ]
  },
  {
   "cell_type": "code",
   "execution_count": 31,
   "metadata": {},
   "outputs": [
    {
     "name": "stdout",
     "output_type": "stream",
     "text": [
      "The average rating given across all ratings 6.1717223923249795\n",
      "The max rating given across all ratings 8.552\n",
      "The min rating given across all ratings 5.696000000000001\n"
     ]
    }
   ],
   "source": [
    "print('The average rating given across all ratings', df['Geek Rating'].mean())\n",
    "print('The max rating given across all ratings', df['Geek Rating'].max())\n",
    "print('The min rating given across all ratings', df['Geek Rating'].min())"
   ]
  },
  {
   "cell_type": "code",
   "execution_count": 77,
   "metadata": {},
   "outputs": [
    {
     "data": {
      "text/html": [
       "<div>\n",
       "<style scoped>\n",
       "    .dataframe tbody tr th:only-of-type {\n",
       "        vertical-align: middle;\n",
       "    }\n",
       "\n",
       "    .dataframe tbody tr th {\n",
       "        vertical-align: top;\n",
       "    }\n",
       "\n",
       "    .dataframe thead th {\n",
       "        text-align: right;\n",
       "    }\n",
       "</style>\n",
       "<table border=\"1\" class=\"dataframe\">\n",
       "  <thead>\n",
       "    <tr style=\"text-align: right;\">\n",
       "      <th></th>\n",
       "      <th>Title</th>\n",
       "      <th>Avg Rating</th>\n",
       "      <th>Geek Rating</th>\n",
       "      <th>Diff_Avg_Geek_Rating</th>\n",
       "      <th>Num Voters</th>\n",
       "    </tr>\n",
       "  </thead>\n",
       "  <tbody>\n",
       "    <tr>\n",
       "      <th>0</th>\n",
       "      <td>Gloomhaven</td>\n",
       "      <td>8.79</td>\n",
       "      <td>8.552</td>\n",
       "      <td>0.238</td>\n",
       "      <td>43254</td>\n",
       "    </tr>\n",
       "    <tr>\n",
       "      <th>1</th>\n",
       "      <td>Pandemic Legacy: Season 1</td>\n",
       "      <td>8.61</td>\n",
       "      <td>8.461</td>\n",
       "      <td>0.149</td>\n",
       "      <td>42367</td>\n",
       "    </tr>\n",
       "    <tr>\n",
       "      <th>2</th>\n",
       "      <td>Brass: Birmingham</td>\n",
       "      <td>8.67</td>\n",
       "      <td>8.391</td>\n",
       "      <td>0.279</td>\n",
       "      <td>20391</td>\n",
       "    </tr>\n",
       "    <tr>\n",
       "      <th>3</th>\n",
       "      <td>Terraforming Mars</td>\n",
       "      <td>8.43</td>\n",
       "      <td>8.285</td>\n",
       "      <td>0.145</td>\n",
       "      <td>66708</td>\n",
       "    </tr>\n",
       "    <tr>\n",
       "      <th>4</th>\n",
       "      <td>Twilight Imperium: Fourth Edition</td>\n",
       "      <td>8.69</td>\n",
       "      <td>8.254</td>\n",
       "      <td>0.436</td>\n",
       "      <td>13930</td>\n",
       "    </tr>\n",
       "  </tbody>\n",
       "</table>\n",
       "</div>"
      ],
      "text/plain": [
       "                               Title  Avg Rating  Geek Rating  \\\n",
       "0                         Gloomhaven        8.79        8.552   \n",
       "1          Pandemic Legacy: Season 1        8.61        8.461   \n",
       "2                  Brass: Birmingham        8.67        8.391   \n",
       "3                  Terraforming Mars        8.43        8.285   \n",
       "4  Twilight Imperium: Fourth Edition        8.69        8.254   \n",
       "\n",
       "   Diff_Avg_Geek_Rating  Num Voters  \n",
       "0                 0.238       43254  \n",
       "1                 0.149       42367  \n",
       "2                 0.279       20391  \n",
       "3                 0.145       66708  \n",
       "4                 0.436       13930  "
      ]
     },
     "execution_count": 77,
     "metadata": {},
     "output_type": "execute_result"
    }
   ],
   "source": [
    "#### is it different the order between Geek and Average rating\n",
    "df_corr = df[['Title', 'Avg Rating', 'Geek Rating', 'Num Voters']]\n",
    "df_corr.insert(3, 'Diff_Avg_Geek_Rating', df_corr['Avg Rating'].values-df_corr['Geek Rating'].values)\n",
    "df_corr.head()\n",
    "#df_corr.sort_values(by='Avg Rating', ascending=False)[['Title', 'Avg Rating', 'Geek Rating', 'Num Voters']].head(10)"
   ]
  },
  {
   "cell_type": "code",
   "execution_count": 79,
   "metadata": {},
   "outputs": [
    {
     "name": "stdout",
     "output_type": "stream",
     "text": [
      "                                                  Title  Avg Rating  \\\n",
      "4886                                   Apples to Apples        5.81   \n",
      "4700                                         Pictionary        5.83   \n",
      "3792                                           Unbroken        5.89   \n",
      "4360                        Risk: The Lord of the Rings        5.90   \n",
      "4453                             Cards Against Humanity        5.90   \n",
      "4481                                           Munchkin        5.90   \n",
      "3749                                              Kalah        5.92   \n",
      "4774                                              Blink        5.93   \n",
      "4276  Unlock!: Mystery Adventures – The Nautilus' Traps        5.95   \n",
      "4666                                  Lord of the Fries        5.97   \n",
      "\n",
      "      Geek Rating  Diff_Avg_Geek_Rating  Num Voters  \n",
      "4886        5.697                 0.113       17654  \n",
      "4700        5.710                 0.120        6986  \n",
      "3792        5.789                 0.101        2007  \n",
      "4360        5.737                 0.163        4396  \n",
      "4453        5.729                 0.171       23506  \n",
      "4481        5.727                 0.173       42027  \n",
      "3749        5.794                 0.126        5969  \n",
      "4774        5.703                 0.227        1873  \n",
      "4276        5.744                 0.206        1758  \n",
      "4666        5.713                 0.257        1634  \n"
     ]
    }
   ],
   "source": [
    "a = df_corr.sort_values(by='Avg Rating', ascending=True)[['Title', 'Avg Rating', 'Geek Rating', 'Diff_Avg_Geek_Rating', 'Num Voters']]\n",
    "print(a.head(10))"
   ]
  },
  {
   "cell_type": "code",
   "execution_count": 80,
   "metadata": {},
   "outputs": [
    {
     "name": "stdout",
     "output_type": "stream",
     "text": [
      "                                          Title  Avg Rating  Geek Rating  \\\n",
      "2850                        Dungeon Universalis        8.99        5.918   \n",
      "2646                         Arena: The Contest        8.97        5.960   \n",
      "1973                                 Core Space        8.91        6.122   \n",
      "3734  Roads to Gettysburg II: Lee Strikes North        8.89        5.795   \n",
      "1911                       Aeon's End: Outcasts        8.86        6.140   \n",
      "3930          World At War 85: Storming the Gap        8.85        5.774   \n",
      "5                  Gloomhaven: Jaws of the Lion        8.83        8.237   \n",
      "411                                   Kanban EV        8.80        6.974   \n",
      "1881                        High Frontier 4 All        8.80        6.148   \n",
      "0                                    Gloomhaven        8.79        8.552   \n",
      "\n",
      "      Diff_Avg_Geek_Rating  Num Voters  \n",
      "2850                 3.072         456  \n",
      "2646                 3.010         609  \n",
      "1973                 2.788         667  \n",
      "3734                 3.095         167  \n",
      "1911                 2.720         404  \n",
      "3930                 3.076         200  \n",
      "5                    0.593        9932  \n",
      "411                  1.826        1393  \n",
      "1881                 2.652         445  \n",
      "0                    0.238       43254  \n"
     ]
    }
   ],
   "source": [
    "a = df_corr.sort_values(by='Avg Rating', ascending=False)[['Title', 'Avg Rating', 'Geek Rating', 'Diff_Avg_Geek_Rating', 'Num Voters']]\n",
    "print(a.head(10))"
   ]
  },
  {
   "cell_type": "code",
   "execution_count": 83,
   "metadata": {},
   "outputs": [
    {
     "data": {
      "image/png": "[encoded data removed]",
      "text/plain": [
       "<Figure size 432x288 with 1 Axes>"
      ]
     },
     "metadata": {
      "needs_background": "light"
     },
     "output_type": "display_data"
    }
   ],
   "source": [
    "from matplotlib import pyplot\n",
    "pyplot.scatter(df_corr['Diff_Avg_Geek_Rating'], df_corr['Num Voters'])\n",
    "pyplot.show()"
   ]
  },
  {
   "cell_type": "code",
   "execution_count": 85,
   "metadata": {},
   "outputs": [
    {
     "data": {
      "image/png": "[encoded data removed]",
      "text/plain": [
       "<Figure size 432x288 with 2 Axes>"
      ]
     },
     "metadata": {
      "needs_background": "light"
     },
     "output_type": "display_data"
    }
   ],
   "source": [
    "import seaborn as sn\n",
    "\n",
    "corrMatrix = df_corr.corr()\n",
    "sn.heatmap(corrMatrix, annot=True)\n",
    "plt.show()"
   ]
  },
  {
   "cell_type": "code",
   "execution_count": 89,
   "metadata": {},
   "outputs": [
    {
     "data": {
      "image/png": "[encoded data removed]",
      "text/plain": [
       "<Figure size 432x288 with 2 Axes>"
      ]
     },
     "metadata": {
      "needs_background": "light"
     },
     "output_type": "display_data"
    }
   ],
   "source": [
    "df2 = df.drop(labels=['Best Num Players Min', 'Best Num Players Max', 'Year_Num'], axis=1)\n",
    "corrMatrix = df2.corr()\n",
    "sn.heatmap(corrMatrix, annot=True)\n",
    "plt.show()"
   ]
  },
  {
   "cell_type": "code",
   "execution_count": null,
   "metadata": {},
   "outputs": [],
   "source": [
    "# get distribution articles per user\n",
    "articles_per_user = df.groupby('Geek Rating').count()['Title']\n",
    "articles_per_user"
   ]
  },
  {
   "cell_type": "code",
   "execution_count": 10,
   "metadata": {},
   "outputs": [
    {
     "ename": "TypeError",
     "evalue": "type Float64Index doesn't define __round__ method",
     "output_type": "error",
     "traceback": [
      "\u001b[1;31m---------------------------------------------------------------------------\u001b[0m",
      "\u001b[1;31mTypeError\u001b[0m                                 Traceback (most recent call last)",
      "\u001b[1;32m<ipython-input-10-8aaf84ead29b>\u001b[0m in \u001b[0;36m<module>\u001b[1;34m\u001b[0m\n\u001b[1;32m----> 1\u001b[1;33m \u001b[0mround\u001b[0m\u001b[1;33m(\u001b[0m\u001b[0marticles_per_user\u001b[0m\u001b[1;33m.\u001b[0m\u001b[0mindex\u001b[0m\u001b[1;33m,\u001b[0m\u001b[1;36m1\u001b[0m\u001b[1;33m)\u001b[0m\u001b[1;33m\u001b[0m\u001b[1;33m\u001b[0m\u001b[0m\n\u001b[0m",
      "\u001b[1;31mTypeError\u001b[0m: type Float64Index doesn't define __round__ method"
     ]
    }
   ],
   "source": [
    "round(articles_per_user.index,1)\n"
   ]
  }
 ],
 "metadata": {
  "kernelspec": {
   "display_name": "Python 3",
   "language": "python",
   "name": "python3"
  },
  "language_info": {
   "codemirror_mode": {
    "name": "ipython",
    "version": 3
   },
   "file_extension": ".py",
   "mimetype": "text/x-python",
   "name": "python",
   "nbconvert_exporter": "python",
   "pygments_lexer": "ipython3",
   "version": "3.8.5"
  }
 },
 "nbformat": 4,
 "nbformat_minor": 4
}
