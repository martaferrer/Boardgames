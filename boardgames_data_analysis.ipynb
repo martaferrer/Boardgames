{
 "cells": [
  {
   "cell_type": "markdown",
   "metadata": {},
   "source": [
    "# Boargames Data Analysis\n",
    "In this notebook, we are going to use the dataframe obtained from the Boardgames Scraping class. After some exploratora analysis, we will clean and tranform the data by taking into account the:\n",
    "- Missing values\n",
    "- Data types within the different columns\n",
    "- Categorical data\n",
    "- Duplicated data\n",
    "\n",
    "In addition, in order to get a better undestand of the data we will take a look and create data visualization of some characteristics of the dataset.\n",
    "\n",
    "### Table of Contents\n",
    "\n",
    "* [Part I](#Exploratory-Data-Analysis) Exploratory Data Analysis\n",
    "* [Part II](#Clean-Data) Data Cleaning\n",
    "    * [a)](#Null-Values) Missing values\n",
    "    * [b)](#Data-types) Data types\n",
    "    * [c)](#Duplicated-Values) Dupicated values\n",
    "    * [d)](#Categorical-Variables) Categorical variables\n",
    "* [Part III](#Data-Visualization) Data Visualization\n",
    "    * [a)](#Data-Correlation) Features correlation\n",
    "\n",
    "    "
   ]
  },
  {
   "cell_type": "code",
   "execution_count": 19,
   "metadata": {},
   "outputs": [],
   "source": [
    "import pandas as pd\n",
    "import numpy as np\n",
    "import matplotlib.pyplot as plt\n",
    "import pickle\n",
    "import math \n",
    "\n",
    "%matplotlib inline\n",
    "\n",
    "# import data\n",
    "df = pd.read_csv('Boardgame/data/boardgame_data.csv')\n",
    "del df['Unnamed: 0']\n",
    "\n",
    "# Show df to get an idea of the data\n",
    "df.head()\n",
    "\n",
    "# create the new datafram storing the cleaned dataframe\n",
    "df_cleaned = df.copy()"
   ]
  },
  {
   "cell_type": "markdown",
   "metadata": {},
   "source": [
    "## <a class=\"anchor\" id=\"Exploratory-Data-Analysis\">Part I : Exploratory Data Analysis</a>\n",
    "\n",
    "Use the dictionary and cells below to provide some insight into the descriptive statistics of the data.\n",
    "\n",
    "The boardgames dataset contains the following columns:\n",
    " - [0]   Board Game Rank: rank of the game acting as ID\n",
    " - [1]   Title\n",
    " - [2]   Year: year when the game was released (it can contain string showing the game edition)\n",
    " - [3]   Description\n",
    " - [4]   Geek Rating: \"Bayesian averaging\"\n",
    " - [5]   Avg Rating: average of all the ratings from registered BGG users\n",
    " - [6]   Num Voters: total number of users given rating to the game\n",
    " - [7]   Num Players Min\n",
    " - [8]   Num Players Max\n",
    " - [9]   Best Num Players Min\n",
    " - [10]  Best Num Players Max\n",
    " - [11]  Playtime Min: minimum allowed playing time\n",
    " - [12]  Playtime Max: maximum allowed playing time\n",
    " - [13]  Player Min Age\n",
    " - [14]  Language Dependence: string showing the dependence of the game to\n",
    " - [15]  Weight: Average complexity of this game\n",
    " - [16]  Category\n",
    " - [17]  Designer"
   ]
  },
  {
   "cell_type": "code",
   "execution_count": 20,
   "metadata": {},
   "outputs": [
    {
     "name": "stdout",
     "output_type": "stream",
     "text": [
      "<class 'pandas.core.frame.DataFrame'>\n",
      "RangeIndex: 4900 entries, 0 to 4899\n",
      "Data columns (total 18 columns):\n",
      " #   Column                Non-Null Count  Dtype  \n",
      "---  ------                --------------  -----  \n",
      " 0   Board Game Rank       4900 non-null   int64  \n",
      " 1   Title                 4900 non-null   object \n",
      " 2   Year                  4891 non-null   object \n",
      " 3   Description           3360 non-null   object \n",
      " 4   Geek Rating           4900 non-null   float64\n",
      " 5   Avg Rating            4900 non-null   float64\n",
      " 6   Num Voters            4900 non-null   int64  \n",
      " 7   Num Players Min       4899 non-null   float64\n",
      " 8   Num Players Max       4899 non-null   float64\n",
      " 9   Best Num Players Min  4580 non-null   float64\n",
      " 10  Best Num Players Max  4557 non-null   float64\n",
      " 11  Playtime Min          4899 non-null   float64\n",
      " 12  Playtime Max          4899 non-null   float64\n",
      " 13  Player Min Age        4899 non-null   float64\n",
      " 14  Language Dependence   4900 non-null   object \n",
      " 15  Weight                4900 non-null   float64\n",
      " 16  Category              4162 non-null   object \n",
      " 17  Designer              4872 non-null   object \n",
      "dtypes: float64(10), int64(2), object(6)\n",
      "memory usage: 689.2+ KB\n"
     ]
    }
   ],
   "source": [
    "df.info()"
   ]
  },
  {
   "cell_type": "code",
   "execution_count": 21,
   "metadata": {},
   "outputs": [
    {
     "data": {
      "text/html": [
       "<div>\n",
       "<style scoped>\n",
       "    .dataframe tbody tr th:only-of-type {\n",
       "        vertical-align: middle;\n",
       "    }\n",
       "\n",
       "    .dataframe tbody tr th {\n",
       "        vertical-align: top;\n",
       "    }\n",
       "\n",
       "    .dataframe thead th {\n",
       "        text-align: right;\n",
       "    }\n",
       "</style>\n",
       "<table border=\"1\" class=\"dataframe\">\n",
       "  <thead>\n",
       "    <tr style=\"text-align: right;\">\n",
       "      <th></th>\n",
       "      <th>Board Game Rank</th>\n",
       "      <th>Geek Rating</th>\n",
       "      <th>Avg Rating</th>\n",
       "      <th>Num Voters</th>\n",
       "      <th>Num Players Min</th>\n",
       "      <th>Num Players Max</th>\n",
       "      <th>Best Num Players Min</th>\n",
       "      <th>Best Num Players Max</th>\n",
       "      <th>Playtime Min</th>\n",
       "      <th>Playtime Max</th>\n",
       "      <th>Player Min Age</th>\n",
       "      <th>Weight</th>\n",
       "    </tr>\n",
       "  </thead>\n",
       "  <tbody>\n",
       "    <tr>\n",
       "      <th>count</th>\n",
       "      <td>4900.00000</td>\n",
       "      <td>4900.000000</td>\n",
       "      <td>4900.000000</td>\n",
       "      <td>4900.000000</td>\n",
       "      <td>4899.000000</td>\n",
       "      <td>4899.000000</td>\n",
       "      <td>4580.000000</td>\n",
       "      <td>4557.000000</td>\n",
       "      <td>4899.000000</td>\n",
       "      <td>4899.000000</td>\n",
       "      <td>4899.000000</td>\n",
       "      <td>4900.000000</td>\n",
       "    </tr>\n",
       "    <tr>\n",
       "      <th>mean</th>\n",
       "      <td>2450.50000</td>\n",
       "      <td>6.171708</td>\n",
       "      <td>7.089906</td>\n",
       "      <td>3046.353265</td>\n",
       "      <td>1.935497</td>\n",
       "      <td>5.271892</td>\n",
       "      <td>3.229039</td>\n",
       "      <td>3.468071</td>\n",
       "      <td>70.323535</td>\n",
       "      <td>112.685650</td>\n",
       "      <td>10.758114</td>\n",
       "      <td>2.361396</td>\n",
       "    </tr>\n",
       "    <tr>\n",
       "      <th>std</th>\n",
       "      <td>1414.65249</td>\n",
       "      <td>0.483325</td>\n",
       "      <td>0.553915</td>\n",
       "      <td>6747.121678</td>\n",
       "      <td>0.697311</td>\n",
       "      <td>7.879397</td>\n",
       "      <td>1.289562</td>\n",
       "      <td>1.535260</td>\n",
       "      <td>159.989456</td>\n",
       "      <td>465.923445</td>\n",
       "      <td>2.902751</td>\n",
       "      <td>0.795796</td>\n",
       "    </tr>\n",
       "    <tr>\n",
       "      <th>min</th>\n",
       "      <td>1.00000</td>\n",
       "      <td>5.696000</td>\n",
       "      <td>5.810000</td>\n",
       "      <td>136.000000</td>\n",
       "      <td>0.000000</td>\n",
       "      <td>0.000000</td>\n",
       "      <td>1.000000</td>\n",
       "      <td>1.000000</td>\n",
       "      <td>0.000000</td>\n",
       "      <td>0.000000</td>\n",
       "      <td>0.000000</td>\n",
       "      <td>0.000000</td>\n",
       "    </tr>\n",
       "    <tr>\n",
       "      <th>25%</th>\n",
       "      <td>1225.75000</td>\n",
       "      <td>5.802000</td>\n",
       "      <td>6.670000</td>\n",
       "      <td>524.000000</td>\n",
       "      <td>2.000000</td>\n",
       "      <td>4.000000</td>\n",
       "      <td>2.000000</td>\n",
       "      <td>2.000000</td>\n",
       "      <td>30.000000</td>\n",
       "      <td>30.000000</td>\n",
       "      <td>9.000000</td>\n",
       "      <td>1.785714</td>\n",
       "    </tr>\n",
       "    <tr>\n",
       "      <th>50%</th>\n",
       "      <td>2450.50000</td>\n",
       "      <td>6.000000</td>\n",
       "      <td>7.040000</td>\n",
       "      <td>1044.000000</td>\n",
       "      <td>2.000000</td>\n",
       "      <td>4.000000</td>\n",
       "      <td>3.000000</td>\n",
       "      <td>4.000000</td>\n",
       "      <td>45.000000</td>\n",
       "      <td>60.000000</td>\n",
       "      <td>12.000000</td>\n",
       "      <td>2.292893</td>\n",
       "    </tr>\n",
       "    <tr>\n",
       "      <th>75%</th>\n",
       "      <td>3675.25000</td>\n",
       "      <td>6.393000</td>\n",
       "      <td>7.460000</td>\n",
       "      <td>2496.000000</td>\n",
       "      <td>2.000000</td>\n",
       "      <td>6.000000</td>\n",
       "      <td>4.000000</td>\n",
       "      <td>4.000000</td>\n",
       "      <td>60.000000</td>\n",
       "      <td>100.000000</td>\n",
       "      <td>13.000000</td>\n",
       "      <td>2.893068</td>\n",
       "    </tr>\n",
       "    <tr>\n",
       "      <th>max</th>\n",
       "      <td>4900.00000</td>\n",
       "      <td>8.552000</td>\n",
       "      <td>8.990000</td>\n",
       "      <td>103666.000000</td>\n",
       "      <td>8.000000</td>\n",
       "      <td>100.000000</td>\n",
       "      <td>12.000000</td>\n",
       "      <td>31.000000</td>\n",
       "      <td>5400.000000</td>\n",
       "      <td>22500.000000</td>\n",
       "      <td>18.000000</td>\n",
       "      <td>4.844660</td>\n",
       "    </tr>\n",
       "  </tbody>\n",
       "</table>\n",
       "</div>"
      ],
      "text/plain": [
       "       Board Game Rank  Geek Rating   Avg Rating     Num Voters  \\\n",
       "count       4900.00000  4900.000000  4900.000000    4900.000000   \n",
       "mean        2450.50000     6.171708     7.089906    3046.353265   \n",
       "std         1414.65249     0.483325     0.553915    6747.121678   \n",
       "min            1.00000     5.696000     5.810000     136.000000   \n",
       "25%         1225.75000     5.802000     6.670000     524.000000   \n",
       "50%         2450.50000     6.000000     7.040000    1044.000000   \n",
       "75%         3675.25000     6.393000     7.460000    2496.000000   \n",
       "max         4900.00000     8.552000     8.990000  103666.000000   \n",
       "\n",
       "       Num Players Min  Num Players Max  Best Num Players Min  \\\n",
       "count      4899.000000      4899.000000           4580.000000   \n",
       "mean          1.935497         5.271892              3.229039   \n",
       "std           0.697311         7.879397              1.289562   \n",
       "min           0.000000         0.000000              1.000000   \n",
       "25%           2.000000         4.000000              2.000000   \n",
       "50%           2.000000         4.000000              3.000000   \n",
       "75%           2.000000         6.000000              4.000000   \n",
       "max           8.000000       100.000000             12.000000   \n",
       "\n",
       "       Best Num Players Max  Playtime Min  Playtime Max  Player Min Age  \\\n",
       "count           4557.000000   4899.000000   4899.000000     4899.000000   \n",
       "mean               3.468071     70.323535    112.685650       10.758114   \n",
       "std                1.535260    159.989456    465.923445        2.902751   \n",
       "min                1.000000      0.000000      0.000000        0.000000   \n",
       "25%                2.000000     30.000000     30.000000        9.000000   \n",
       "50%                4.000000     45.000000     60.000000       12.000000   \n",
       "75%                4.000000     60.000000    100.000000       13.000000   \n",
       "max               31.000000   5400.000000  22500.000000       18.000000   \n",
       "\n",
       "            Weight  \n",
       "count  4900.000000  \n",
       "mean      2.361396  \n",
       "std       0.795796  \n",
       "min       0.000000  \n",
       "25%       1.785714  \n",
       "50%       2.292893  \n",
       "75%       2.893068  \n",
       "max       4.844660  "
      ]
     },
     "execution_count": 21,
     "metadata": {},
     "output_type": "execute_result"
    }
   ],
   "source": [
    "df.describe()"
   ]
  },
  {
   "cell_type": "markdown",
   "metadata": {},
   "source": [
    "### <a class=\"anchor\" id=\"Observations\">Observations</a>\n",
    "From the statistical table above we can draw some conclusions:\n",
    "* There are some values which are do not make sence such as having a game with the minimum or maximum number of players equal to zero.\n",
    "* There are some rows containing null values\n",
    "* The Year column is not considered as numerical column\n",
    "* By comparing the 75% and max rows, you can observe big changes in some columns. Are those outliers?\n",
    "* There are some columns they can be defined and treated as categorical (maybe even creating dummy columns to not impose a rank of categories)"
   ]
  },
  {
   "cell_type": "markdown",
   "metadata": {},
   "source": [
    "## <a class=\"anchor\" id=\"Clean-Data\">Part II : Clean data</a>\n",
    "- put the language dependence col as a (needed, semi needed, not needed) -> put it as dummy\n",
    "- get the type of planes (mysterious, cards...) -> put it as dummy\n",
    "- check for nan's"
   ]
  },
  {
   "cell_type": "markdown",
   "metadata": {},
   "source": [
    "### <a class=\"anchor\" id=\"Invalid-Values\">Invalid values</a>\n",
    "From the describe"
   ]
  },
  {
   "cell_type": "code",
   "execution_count": 22,
   "metadata": {},
   "outputs": [],
   "source": [
    "# from the table above, we will find those games which has invalid values\n",
    "# for instance having the number of players or the playtime equal to 0\n",
    "zero_players_min = df[df['Num Players Min'] == 0].index\n",
    "zero_players_max = df[df['Num Players Max'] == 0].index\n",
    "zero_playtime_min = df[df['Playtime Min'] == 0].index\n",
    "zero_playtime_max = df[df['Playtime Max'] == 0].index\n",
    "zero_weight = df[df['Weight'] == 0].index # the game complexity goes from 1-5 as defined at the BoardGamesGeek website"
   ]
  },
  {
   "cell_type": "code",
   "execution_count": 23,
   "metadata": {},
   "outputs": [],
   "source": [
    "# unit testing\n",
    "all_index = np.concatenate((zero_players_min, zero_players_max))\n",
    "\n",
    "unique_index = set(all_index)\n",
    "repetitive_index = set.intersection(set(zero_players_min), set(zero_players_max))\n",
    "\n",
    "assert len(zero_players_min)+len(zero_players_max) == len(all_index),\"Concatenate arrays not correctly built.\"\n",
    "assert len(repetitive_index)+len(unique_index) == len(all_index),\"Repetitive and Unique arrays not correctly built.\""
   ]
  },
  {
   "cell_type": "code",
   "execution_count": 24,
   "metadata": {},
   "outputs": [
    {
     "name": "stdout",
     "output_type": "stream",
     "text": [
      "There are 13 games whose some of their features are invalid\n"
     ]
    }
   ],
   "source": [
    "# find which games have invalid values\n",
    "all_index = np.concatenate((zero_players_min, zero_players_max, zero_playtime_min, zero_playtime_max, zero_weight))\n",
    "unique_index = set(all_index)\n",
    "print('There are {} games whose some of their features are invalid'.format(len(unique_index)))"
   ]
  },
  {
   "cell_type": "code",
   "execution_count": 25,
   "metadata": {},
   "outputs": [],
   "source": [
    "# drop indexes with invalid values\n",
    "df.drop(index=unique_index, axis=0, inplace=True)"
   ]
  },
  {
   "cell_type": "code",
   "execution_count": 26,
   "metadata": {},
   "outputs": [],
   "source": [
    "assert df[df['Best Num Players Min'] > df['Best Num Players Max']].shape[0] == 0, \"Something is bad..\""
   ]
  },
  {
   "cell_type": "code",
   "execution_count": 27,
   "metadata": {},
   "outputs": [],
   "source": [
    "assert df[df['Num Players Min'] > df['Num Players Max']].shape[0] == 0, \"Something is bad..\""
   ]
  },
  {
   "cell_type": "code",
   "execution_count": 28,
   "metadata": {},
   "outputs": [],
   "source": [
    "assert df[df['Num Players Max'] < df['Best Num Players Max']].shape[0] == 0, \"Something is strange..\""
   ]
  },
  {
   "cell_type": "code",
   "execution_count": 29,
   "metadata": {},
   "outputs": [
    {
     "ename": "AssertionError",
     "evalue": "Something is strange..",
     "output_type": "error",
     "traceback": [
      "\u001b[1;31m---------------------------------------------------------------------------\u001b[0m",
      "\u001b[1;31mAssertionError\u001b[0m                            Traceback (most recent call last)",
      "\u001b[1;32m<ipython-input-29-5a01e4688580>\u001b[0m in \u001b[0;36m<module>\u001b[1;34m\u001b[0m\n\u001b[1;32m----> 1\u001b[1;33m \u001b[1;32massert\u001b[0m \u001b[0mdf\u001b[0m\u001b[1;33m[\u001b[0m\u001b[0mdf\u001b[0m\u001b[1;33m[\u001b[0m\u001b[1;34m'Num Players Min'\u001b[0m\u001b[1;33m]\u001b[0m \u001b[1;33m>\u001b[0m \u001b[0mdf\u001b[0m\u001b[1;33m[\u001b[0m\u001b[1;34m'Best Num Players Min'\u001b[0m\u001b[1;33m]\u001b[0m\u001b[1;33m]\u001b[0m\u001b[1;33m.\u001b[0m\u001b[0mshape\u001b[0m\u001b[1;33m[\u001b[0m\u001b[1;36m0\u001b[0m\u001b[1;33m]\u001b[0m \u001b[1;33m==\u001b[0m \u001b[1;36m0\u001b[0m\u001b[1;33m,\u001b[0m \u001b[1;34m\"Something is strange..\"\u001b[0m\u001b[1;33m\u001b[0m\u001b[1;33m\u001b[0m\u001b[0m\n\u001b[0m",
      "\u001b[1;31mAssertionError\u001b[0m: Something is strange.."
     ]
    }
   ],
   "source": [
    "#assert df[df['Num Players Min'] > df['Best Num Players Min']].shape[0] == 0, \"Something is strange..\""
   ]
  },
  {
   "cell_type": "code",
   "execution_count": 30,
   "metadata": {},
   "outputs": [
    {
     "data": {
      "text/html": [
       "<div>\n",
       "<style scoped>\n",
       "    .dataframe tbody tr th:only-of-type {\n",
       "        vertical-align: middle;\n",
       "    }\n",
       "\n",
       "    .dataframe tbody tr th {\n",
       "        vertical-align: top;\n",
       "    }\n",
       "\n",
       "    .dataframe thead th {\n",
       "        text-align: right;\n",
       "    }\n",
       "</style>\n",
       "<table border=\"1\" class=\"dataframe\">\n",
       "  <thead>\n",
       "    <tr style=\"text-align: right;\">\n",
       "      <th></th>\n",
       "      <th>Board Game Rank</th>\n",
       "      <th>Title</th>\n",
       "      <th>Year</th>\n",
       "      <th>Description</th>\n",
       "      <th>Geek Rating</th>\n",
       "      <th>Avg Rating</th>\n",
       "      <th>Num Voters</th>\n",
       "      <th>Num Players Min</th>\n",
       "      <th>Num Players Max</th>\n",
       "      <th>Best Num Players Min</th>\n",
       "      <th>Best Num Players Max</th>\n",
       "      <th>Playtime Min</th>\n",
       "      <th>Playtime Max</th>\n",
       "      <th>Player Min Age</th>\n",
       "      <th>Language Dependence</th>\n",
       "      <th>Weight</th>\n",
       "      <th>Category</th>\n",
       "      <th>Designer</th>\n",
       "    </tr>\n",
       "  </thead>\n",
       "  <tbody>\n",
       "    <tr>\n",
       "      <th>414</th>\n",
       "      <td>415</td>\n",
       "      <td>Fantasy Realms</td>\n",
       "      <td>2017</td>\n",
       "      <td>Build the greatest fantasy kingdom by construc...</td>\n",
       "      <td>6.973</td>\n",
       "      <td>7.48</td>\n",
       "      <td>4859</td>\n",
       "      <td>3.0</td>\n",
       "      <td>6.0</td>\n",
       "      <td>2.0</td>\n",
       "      <td>3.0</td>\n",
       "      <td>20.0</td>\n",
       "      <td>20.0</td>\n",
       "      <td>14.0</td>\n",
       "      <td>Moderate in-game text - needs crib sheet or pa...</td>\n",
       "      <td>1.741935</td>\n",
       "      <td>Family</td>\n",
       "      <td>Bruce Glassco</td>\n",
       "    </tr>\n",
       "    <tr>\n",
       "      <th>1769</th>\n",
       "      <td>1770</td>\n",
       "      <td>Back to the Future: Back in Time</td>\n",
       "      <td>2020</td>\n",
       "      <td>Reset the 1955 timeline before you disappear a...</td>\n",
       "      <td>6.187</td>\n",
       "      <td>7.43</td>\n",
       "      <td>961</td>\n",
       "      <td>2.0</td>\n",
       "      <td>4.0</td>\n",
       "      <td>1.0</td>\n",
       "      <td>2.0</td>\n",
       "      <td>50.0</td>\n",
       "      <td>50.0</td>\n",
       "      <td>10.0</td>\n",
       "      <td>Some necessary text - easily memorized or smal...</td>\n",
       "      <td>2.259259</td>\n",
       "      <td>Thematic</td>\n",
       "      <td>Prospero Hall</td>\n",
       "    </tr>\n",
       "    <tr>\n",
       "      <th>2283</th>\n",
       "      <td>2284</td>\n",
       "      <td>Escape the Room: Mystery at the Stargazer's Manor</td>\n",
       "      <td>2016</td>\n",
       "      <td>NaN</td>\n",
       "      <td>6.036</td>\n",
       "      <td>6.58</td>\n",
       "      <td>1610</td>\n",
       "      <td>3.0</td>\n",
       "      <td>8.0</td>\n",
       "      <td>2.0</td>\n",
       "      <td>3.0</td>\n",
       "      <td>90.0</td>\n",
       "      <td>90.0</td>\n",
       "      <td>10.0</td>\n",
       "      <td>Extensive use of text - massive conversion nee...</td>\n",
       "      <td>1.611111</td>\n",
       "      <td>Family</td>\n",
       "      <td>Rebecca Bleau</td>\n",
       "    </tr>\n",
       "    <tr>\n",
       "      <th>2570</th>\n",
       "      <td>2571</td>\n",
       "      <td>Die Legenden von Andor: Chada &amp; Thorn</td>\n",
       "      <td>2015</td>\n",
       "      <td>NaN</td>\n",
       "      <td>5.973</td>\n",
       "      <td>6.72</td>\n",
       "      <td>1141</td>\n",
       "      <td>2.0</td>\n",
       "      <td>2.0</td>\n",
       "      <td>1.0</td>\n",
       "      <td>1.0</td>\n",
       "      <td>45.0</td>\n",
       "      <td>45.0</td>\n",
       "      <td>10.0</td>\n",
       "      <td>Moderate in-game text - needs crib sheet or pa...</td>\n",
       "      <td>2.184211</td>\n",
       "      <td>Thematic</td>\n",
       "      <td>Gerhard Hecht</td>\n",
       "    </tr>\n",
       "    <tr>\n",
       "      <th>2613</th>\n",
       "      <td>2614</td>\n",
       "      <td>Escape the Room: Secret of Dr. Gravely's Retreat</td>\n",
       "      <td>2016</td>\n",
       "      <td>NaN</td>\n",
       "      <td>5.965</td>\n",
       "      <td>6.99</td>\n",
       "      <td>737</td>\n",
       "      <td>3.0</td>\n",
       "      <td>8.0</td>\n",
       "      <td>2.0</td>\n",
       "      <td>3.0</td>\n",
       "      <td>90.0</td>\n",
       "      <td>90.0</td>\n",
       "      <td>13.0</td>\n",
       "      <td>Extensive use of text - massive conversion nee...</td>\n",
       "      <td>1.769231</td>\n",
       "      <td>NaN</td>\n",
       "      <td>Rebecca Bleau</td>\n",
       "    </tr>\n",
       "  </tbody>\n",
       "</table>\n",
       "</div>"
      ],
      "text/plain": [
       "      Board Game Rank                                              Title  \\\n",
       "414               415                                     Fantasy Realms   \n",
       "1769             1770                   Back to the Future: Back in Time   \n",
       "2283             2284  Escape the Room: Mystery at the Stargazer's Manor   \n",
       "2570             2571              Die Legenden von Andor: Chada & Thorn   \n",
       "2613             2614   Escape the Room: Secret of Dr. Gravely's Retreat   \n",
       "\n",
       "      Year                                        Description  Geek Rating  \\\n",
       "414   2017  Build the greatest fantasy kingdom by construc...        6.973   \n",
       "1769  2020  Reset the 1955 timeline before you disappear a...        6.187   \n",
       "2283  2016                                                NaN        6.036   \n",
       "2570  2015                                                NaN        5.973   \n",
       "2613  2016                                                NaN        5.965   \n",
       "\n",
       "      Avg Rating  Num Voters  Num Players Min  Num Players Max  \\\n",
       "414         7.48        4859              3.0              6.0   \n",
       "1769        7.43         961              2.0              4.0   \n",
       "2283        6.58        1610              3.0              8.0   \n",
       "2570        6.72        1141              2.0              2.0   \n",
       "2613        6.99         737              3.0              8.0   \n",
       "\n",
       "      Best Num Players Min  Best Num Players Max  Playtime Min  Playtime Max  \\\n",
       "414                    2.0                   3.0          20.0          20.0   \n",
       "1769                   1.0                   2.0          50.0          50.0   \n",
       "2283                   2.0                   3.0          90.0          90.0   \n",
       "2570                   1.0                   1.0          45.0          45.0   \n",
       "2613                   2.0                   3.0          90.0          90.0   \n",
       "\n",
       "      Player Min Age                                Language Dependence  \\\n",
       "414             14.0  Moderate in-game text - needs crib sheet or pa...   \n",
       "1769            10.0  Some necessary text - easily memorized or smal...   \n",
       "2283            10.0  Extensive use of text - massive conversion nee...   \n",
       "2570            10.0  Moderate in-game text - needs crib sheet or pa...   \n",
       "2613            13.0  Extensive use of text - massive conversion nee...   \n",
       "\n",
       "        Weight  Category       Designer  \n",
       "414   1.741935   Family   Bruce Glassco  \n",
       "1769  2.259259  Thematic  Prospero Hall  \n",
       "2283  1.611111   Family   Rebecca Bleau  \n",
       "2570  2.184211  Thematic  Gerhard Hecht  \n",
       "2613  1.769231       NaN  Rebecca Bleau  "
      ]
     },
     "execution_count": 30,
     "metadata": {},
     "output_type": "execute_result"
    }
   ],
   "source": [
    "# games in which the best number of minimal players are not considered as allowed for the game designer\n",
    "# but why not, I let them inside\n",
    "df[df['Num Players Min'] > df['Best Num Players Min']]"
   ]
  },
  {
   "cell_type": "markdown",
   "metadata": {},
   "source": [
    "### <a class=\"anchor\" id=\"Null-Values\">Null values</a>\n",
    "Check the missing values in the dataset. \n",
    "There are some columns in which a missing value can lead to removing the row whereas others the missing information is not highly relevant.\n",
    "\n",
    "For instance, it will not be accepted a row with missing _Title_ or _Boardgame Rank_ since those are indexes representing the ID of the boardgame. Noneofthelees, if the Description information is missing we can still use the row."
   ]
  },
  {
   "cell_type": "code",
   "execution_count": 31,
   "metadata": {},
   "outputs": [
    {
     "data": {
      "text/plain": [
       "Board Game Rank            0.0\n",
       "Title                      0.0\n",
       "Year                       6.0\n",
       "Description             1531.0\n",
       "Geek Rating                0.0\n",
       "Avg Rating                 0.0\n",
       "Num Voters                 0.0\n",
       "Num Players Min            1.0\n",
       "Num Players Max            1.0\n",
       "Best Num Players Min     310.0\n",
       "Best Num Players Max     331.0\n",
       "Playtime Min               1.0\n",
       "Playtime Max               1.0\n",
       "Player Min Age             1.0\n",
       "Language Dependence        0.0\n",
       "Weight                     0.0\n",
       "Category                 735.0\n",
       "Designer                  28.0\n",
       "dtype: float64"
      ]
     },
     "execution_count": 31,
     "metadata": {},
     "output_type": "execute_result"
    }
   ],
   "source": [
    "# The number of missing values in each column of the dataset\n",
    "df.isnull().mean()*df.shape[0]"
   ]
  },
  {
   "cell_type": "code",
   "execution_count": 32,
   "metadata": {},
   "outputs": [],
   "source": [
    "# Drop the rows with missing number of players\n",
    "df.dropna(subset=['Num Players Min','Num Players Max'], axis=0, inplace=True)"
   ]
  },
  {
   "cell_type": "code",
   "execution_count": null,
   "metadata": {},
   "outputs": [],
   "source": [
    "# set of columns with missing values\n",
    "with_nulls = set(df.columns[df.isnull().mean()!=0])\n",
    "with_nulls"
   ]
  },
  {
   "cell_type": "markdown",
   "metadata": {},
   "source": [
    "### <a class=\"anchor\" id=\"Data-types\">Data types</a>\n",
    "* Title, Description, Designer -> transform to str\n",
    "* Year -> transform to int\n",
    "* Language dependece and category -> clean to be categorical"
   ]
  },
  {
   "cell_type": "code",
   "execution_count": null,
   "metadata": {},
   "outputs": [],
   "source": [
    "# convert string columns to string using astype:\n",
    "# there are some years being Revised Edition -> set them to Nan\n",
    "# from 9 NaN it turns to be 111 without real year\n",
    "df['Year_Num'] = pd.to_numeric(df['Year'], errors='coerce')"
   ]
  },
  {
   "cell_type": "code",
   "execution_count": null,
   "metadata": {},
   "outputs": [],
   "source": [
    "print(df[df.Year.isnull() == True].shape)\n",
    "print(df[df.Year_Num.isnull() == True].shape)"
   ]
  },
  {
   "cell_type": "code",
   "execution_count": null,
   "metadata": {},
   "outputs": [],
   "source": [
    "# Check for strange published years\n",
    "df[(df.Year_Num < 1900) | (df.Year_Num > 2021)]"
   ]
  },
  {
   "cell_type": "code",
   "execution_count": null,
   "metadata": {},
   "outputs": [],
   "source": [
    "# set invalid years as nan\n",
    "invalid_years = df[(df.Year_Num < 0) | (df.Year_Num > 2021)].index\n",
    "df.at[invalid_years, 'Year_Num'] = math.nan\n",
    "print('Setting invalid years {} as nan'.format(invalid_years))\n",
    "\n",
    "assert df[(df.Year_Num < 0) | (df.Year_Num > 2021)].shape[0] == 0, \"Something went wrong\""
   ]
  },
  {
   "cell_type": "markdown",
   "metadata": {},
   "source": [
    "### <a class=\"anchor\" id=\"Duplicated-Values\">Duplicated Values</a>"
   ]
  },
  {
   "cell_type": "code",
   "execution_count": null,
   "metadata": {},
   "outputs": [],
   "source": [
    "# check if there are games which are repeated in the dataframe\n",
    "if(df['Title'].nunique() != df.shape[0]):\n",
    "    print('Mmmh it looks like some playgames are repeated...')\n",
    "    duplicated_titles = set([x for x in list(df['Title']) if list(df['Title']).count(x) > 1])\n",
    "\n",
    "print('There are {} title which are duplicated'.format(len(duplicated_titles)))"
   ]
  },
  {
   "cell_type": "code",
   "execution_count": null,
   "metadata": {},
   "outputs": [],
   "source": [
    "# lets have a look to the first one\n",
    "df[df['Title'] == list(duplicated_titles)[0]]"
   ]
  },
  {
   "cell_type": "markdown",
   "metadata": {},
   "source": [
    "### <a class=\"anchor\" id=\"Categorical-Variables\">Categorical variables</a>\n",
    "One of the main ways for working with categorical variables is using 0, 1 encodings. In this technique, you create a new column for every level of the categorical variable. The advantages of this approach include:\n",
    "\n",
    "The ability to have differing influences of each level on the response.\n",
    "You do not impose a rank of the categories.\n",
    "The ability to interpret the results more easily than other encodings.\n",
    "The disadvantages of this approach are that you introduce a large number of effects into your model.\n",
    "\n",
    "In our dataset we can transform to columns as categorical variables:\n",
    "* _Language Dependence_: representing the degree of dependancy of the language when playing the game\n",
    "* _Category_: different types of category"
   ]
  },
  {
   "cell_type": "code",
   "execution_count": null,
   "metadata": {},
   "outputs": [],
   "source": [
    "# Identify columns that are categorical in nature\n",
    "cat_df = df.select_dtypes(include=['object']) # Subset to a dataframe only holding the categorical columns\n",
    "\n",
    "# Print how many categorical columns\n",
    "cat_df.columns"
   ]
  },
  {
   "cell_type": "code",
   "execution_count": null,
   "metadata": {},
   "outputs": [],
   "source": [
    "# Add an extra column with language dependence as a categorical variable\n",
    "df['Language Dependence'].head()"
   ]
  },
  {
   "cell_type": "code",
   "execution_count": null,
   "metadata": {},
   "outputs": [],
   "source": [
    "# divide the language dependence into three categorical values\n",
    "language_dependece_cat = []\n",
    "for dependence in df['Language Dependence']:\n",
    "    if('Unplayable' in dependence):\n",
    "        language_dependece_cat.append('Extensive')\n",
    "    elif('Extensive' in dependence):\n",
    "        language_dependece_cat.append('Extensive')\n",
    "    elif('Moderate' in dependence):\n",
    "        language_dependece_cat.append('Moderate')\n",
    "    elif('Some necessary' in dependence):\n",
    "        language_dependece_cat.append('Moderate')\n",
    "    elif('No necessary' in dependence):\n",
    "        language_dependece_cat.append('No')\n",
    "    else:\n",
    "        language_dependece_cat.append(math.nan)"
   ]
  },
  {
   "cell_type": "code",
   "execution_count": null,
   "metadata": {},
   "outputs": [],
   "source": [
    "# insert parsed language dependency column\n",
    "col_index = df.columns.get_loc('Language Dependence')\n",
    "df.insert(col_index+1, 'Language', language_dependece_cat, True)\n",
    "\n",
    "# drop old one\n",
    "df.drop(labels='Language Dependence', axis=1, inplace=True)"
   ]
  },
  {
   "cell_type": "code",
   "execution_count": null,
   "metadata": {},
   "outputs": [],
   "source": [
    "#Provide a pandas series of the counts for each Language dependence\n",
    "language_vals = df['Language'].value_counts()\n",
    "\n",
    "# Bar chart of the language dependency category in percentage\n",
    "(language_vals/df.shape[0]).plot(kind=\"bar\");\n",
    "plt.title(\"Is language a requirement?\");"
   ]
  },
  {
   "cell_type": "code",
   "execution_count": null,
   "metadata": {},
   "outputs": [],
   "source": [
    "# For each of the categorical variables create a column\n",
    "# Ignore NaN columns (dummy_na=False) -> do not create an extra col for the nan values, they are set to 0\n",
    "print('Language column has {} as unique values'.format(df['Language'].unique()))\n",
    "language_dummy_df = pd.get_dummies(df['Language'], dummy_na=False).head()\n",
    "language_dummy_df"
   ]
  },
  {
   "cell_type": "code",
   "execution_count": null,
   "metadata": {},
   "outputs": [],
   "source": [
    "# have a look at the different boardgame categories\n",
    "df['Category'].head()"
   ]
  },
  {
   "cell_type": "code",
   "execution_count": null,
   "metadata": {},
   "outputs": [],
   "source": [
    "df['Category'].unique()"
   ]
  },
  {
   "cell_type": "code",
   "execution_count": null,
   "metadata": {},
   "outputs": [],
   "source": [
    "# get unique values\n",
    "cat = []\n",
    "for categories in df['Category']:\n",
    "    for category in str(categories).split('|'):\n",
    "        category = category.strip()\n",
    "        if (category not in cat):\n",
    "            cat.append(category)\n",
    "            \n",
    "print('There are {} categories: {}'.format(len(cat), cat))"
   ]
  },
  {
   "cell_type": "code",
   "execution_count": null,
   "metadata": {},
   "outputs": [],
   "source": [
    "df['Category'].head()"
   ]
  },
  {
   "cell_type": "code",
   "execution_count": null,
   "metadata": {},
   "outputs": [],
   "source": [
    "category_dummy_df = df['Category'].str.replace(\" \",\"\").str.get_dummies(\"|\").head()\n",
    "category_dummy_df.iloc[10:20, :] "
   ]
  },
  {
   "cell_type": "code",
   "execution_count": null,
   "metadata": {},
   "outputs": [],
   "source": [
    "cat_all = []\n",
    "for categories in df['Category']:\n",
    "    for category in str(categories).split('|'):\n",
    "        cat_all.append(category.strip())\n",
    "\n",
    "from collections import Counter\n",
    "        \n",
    "#Provide a pandas series of the counts for each Language dependence\n",
    "cat_vals = Counter(cat_all)\n",
    "\n",
    "# Bar chart of the language dependency category\n",
    "plt.title(\"Boardgames categories\");\n",
    "plt.bar(range(len(cat_vals)), list(cat_vals.values()), align='center')\n",
    "plt.xticks(range(len(cat_vals)), list(cat_vals.keys()), rotation='vertical')"
   ]
  },
  {
   "cell_type": "code",
   "execution_count": null,
   "metadata": {},
   "outputs": [],
   "source": [
    "# merge categorical columns\n",
    "df_all_num = pd.concat([df, language_dummy_df, category_dummy_df], axis=1)\n",
    "df_all_num.head()"
   ]
  },
  {
   "cell_type": "code",
   "execution_count": null,
   "metadata": {},
   "outputs": [],
   "source": [
    "df_all_num.columns"
   ]
  },
  {
   "cell_type": "code",
   "execution_count": null,
   "metadata": {},
   "outputs": [],
   "source": [
    "df_all_num.drop(labels=['Language', 'Category'], axis=1, inplace=True)\n",
    "df_all_num.columns"
   ]
  },
  {
   "cell_type": "code",
   "execution_count": null,
   "metadata": {},
   "outputs": [],
   "source": [
    "# save cleaned data \n",
    "df_all_num.to_pickle(\"Boardgame//data//boardgame_data_clean.pkl\")\n",
    "print (\"Percentage data filtered {:.2f}\".format((df.shape[0]-df_all_num.shape[0])/df.shape[0]*100)) "
   ]
  },
  {
   "cell_type": "markdown",
   "metadata": {},
   "source": [
    "### <a class=\"anchor\" id=\"Data-Visualization\">Part III : Data Visualization</a>"
   ]
  },
  {
   "cell_type": "code",
   "execution_count": null,
   "metadata": {},
   "outputs": [],
   "source": [
    "def plot_histogram(data):\n",
    "    ax = plt.gca()\n",
    "    counts, _, patches = ax.hist(data)\n",
    "    for count, patch in zip(counts, patches):\n",
    "        if count>0:\n",
    "            ax.annotate(str(int(count)), xy=(patch.get_x(), patch.get_height()+5))\n",
    "    if data.name:\n",
    "        plt.xlabel(data.name)"
   ]
  },
  {
   "cell_type": "code",
   "execution_count": null,
   "metadata": {},
   "outputs": [],
   "source": [
    "plt.title('Histogram of Average Ratings')\n",
    "plot_histogram(df['Avg Rating'])"
   ]
  },
  {
   "cell_type": "code",
   "execution_count": null,
   "metadata": {},
   "outputs": [],
   "source": [
    "plt.title('Histogram of Average Weight')\n",
    "plot_histogram(df['Weight'])"
   ]
  },
  {
   "cell_type": "code",
   "execution_count": null,
   "metadata": {},
   "outputs": [],
   "source": [
    "columns = ['Num Players Min', 'Num Players Max']\n",
    "plt.figure(figsize=(15, 5))\n",
    "i=1\n",
    "for col in columns:\n",
    "    plt.subplot(1, 2, i)\n",
    "    plot_histogram(df[col])\n",
    "    i+=1"
   ]
  },
  {
   "cell_type": "code",
   "execution_count": null,
   "metadata": {},
   "outputs": [],
   "source": [
    "plt.figure(figsize=(15, 5))\n",
    "fig, axes = plt.subplots(2, 2)\n",
    "df.boxplot(column='Num Players Min', ax=axes[0,0], figsize=(15, 5)) # add boxplot to 1st subplot\n",
    "df.boxplot(column='Num Players Max', ax=axes[0,1], figsize=(15, 5)) # add boxplot to 2nd subplot\n",
    "df.boxplot(column='Best Num Players Min', ax=axes[1,0], figsize=(15, 5)) # add boxplot to 2nd subplot\n",
    "df.boxplot(column='Best Num Players Max', ax=axes[1,1], figsize=(15, 5)) # add boxplot to 2nd subplot\n",
    "plt.show()"
   ]
  },
  {
   "cell_type": "code",
   "execution_count": null,
   "metadata": {},
   "outputs": [],
   "source": [
    "# check the number of outliers in this four columns\n",
    "df_outliers = df[['Num Players Min', 'Num Players Max', 'Best Num Players Min', 'Best Num Players Max']]\n",
    "Q1 = df_outliers.quantile(0.25)\n",
    "Q3 = df_outliers.quantile(0.75)\n",
    "IQR = Q3 - Q1\n",
    "((df_outliers < (Q1 - 1.5 * IQR)) | (df_outliers > (Q3 + 1.5 * IQR))).sum()"
   ]
  },
  {
   "cell_type": "code",
   "execution_count": null,
   "metadata": {},
   "outputs": [],
   "source": [
    "plt.title('Histogram of Minumum Player Age')\n",
    "plot_histogram(df['Player Min Age'])"
   ]
  },
  {
   "cell_type": "code",
   "execution_count": null,
   "metadata": {},
   "outputs": [],
   "source": [
    "# for a better understanding of the year, filter those present in the lower quantile\n",
    "q_low = df['Year_Num'].quantile(0.1)\n",
    "df_year_filtered = df[df['Year_Num'] > q_low]['Year_Num']\n",
    "\n",
    "plt.title('Histogram of Year')\n",
    "plot_histogram(df_year_filtered)"
   ]
  },
  {
   "cell_type": "code",
   "execution_count": null,
   "metadata": {},
   "outputs": [],
   "source": [
    "plt.figure(figsize = (12, 9))\n",
    "plt.scatter(df['Year_Num'],df['Avg Rating'],alpha=0.6,sizes=(10, 50))\n",
    "plt.axis([1950, 2021, 5.5, 9.5])\n",
    "plt.xlabel('Year Published')\n",
    "plt.ylabel('Average Rating')\n",
    "plt.show()"
   ]
  },
  {
   "cell_type": "markdown",
   "metadata": {},
   "source": [
    "### <a class=\"anchor\" id=\"Data-Correlation\">Data Correlation</a>\n",
    "\n",
    "Let's have a look at how the boardgame features are correlated mongs each other."
   ]
  },
  {
   "cell_type": "code",
   "execution_count": null,
   "metadata": {},
   "outputs": [],
   "source": [
    "import seaborn as sn\n",
    "\n",
    "# find correlation between the boardgames features\n",
    "df_corr = df.drop(labels=['Best Num Players Min', 'Best Num Players Max'], axis=1)\n",
    "corr_matrix = df_corr.corr()\n",
    "fig = plt.figure(figsize = (12, 9))\n",
    "sn.heatmap(corr_matrix, annot=True)\n",
    "plt.show()"
   ]
  },
  {
   "cell_type": "code",
   "execution_count": null,
   "metadata": {},
   "outputs": [],
   "source": [
    "# more specificaly display the correlation with the Average Rating column\n",
    "corr_matrix['Avg Rating'].sort_values(ascending=False)"
   ]
  },
  {
   "cell_type": "markdown",
   "metadata": {},
   "source": [
    "#### Observations:\n",
    "- Average Rating is correlated to the weight (complexity of the game) and the minimum age of the player\n",
    "- Average rating is independent of the playing time, year of publication and number of players"
   ]
  },
  {
   "cell_type": "code",
   "execution_count": null,
   "metadata": {},
   "outputs": [],
   "source": [
    "from matplotlib import pyplot\n",
    "plt.figure(figsize = (12, 9))\n",
    "plt.scatter(df['Num Voters'], df['Geek Rating'])\n",
    "plt.xlabel('Num voters')\n",
    "plt.ylabel('Average Rating')\n",
    "plt.show()"
   ]
  },
  {
   "cell_type": "code",
   "execution_count": null,
   "metadata": {},
   "outputs": [],
   "source": []
  }
 ],
 "metadata": {
  "kernelspec": {
   "display_name": "Python 3",
   "language": "python",
   "name": "python3"
  },
  "language_info": {
   "codemirror_mode": {
    "name": "ipython",
    "version": 3
   },
   "file_extension": ".py",
   "mimetype": "text/x-python",
   "name": "python",
   "nbconvert_exporter": "python",
   "pygments_lexer": "ipython3",
   "version": "3.8.5"
  }
 },
 "nbformat": 4,
 "nbformat_minor": 4
}
